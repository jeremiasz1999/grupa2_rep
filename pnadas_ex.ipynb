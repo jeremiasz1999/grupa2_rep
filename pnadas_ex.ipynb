{
 "cells": [
  {
   "cell_type": "code",
   "execution_count": 3,
   "id": "be14943f-1342-4e94-9401-d3c026bcef1c",
   "metadata": {},
   "outputs": [],
   "source": [
    "import pandas as pd\n",
    "import numpy as np"
   ]
  },
  {
   "cell_type": "markdown",
   "id": "d2949632-f355-4374-aca6-a7631e5cb9f2",
   "metadata": {},
   "source": [
    "# zadanie 1"
   ]
  },
  {
   "cell_type": "code",
   "execution_count": 2,
   "id": "1150afbc-1b48-45bb-a98a-ae915f76cb31",
   "metadata": {},
   "outputs": [],
   "source": [
    "my_list = [1, 5, 2, 5]"
   ]
  },
  {
   "cell_type": "code",
   "execution_count": 4,
   "id": "af8dbcfb-1c04-4b7f-acec-24317d9396d7",
   "metadata": {},
   "outputs": [],
   "source": [
    "s = pd.Series(my_list)"
   ]
  },
  {
   "cell_type": "code",
   "execution_count": 5,
   "id": "c21ac68f-5f4f-40cd-9db3-6b926ac47c1d",
   "metadata": {},
   "outputs": [
    {
     "data": {
      "text/plain": [
       "np.int64(5)"
      ]
     },
     "execution_count": 5,
     "metadata": {},
     "output_type": "execute_result"
    }
   ],
   "source": [
    "s[3]"
   ]
  },
  {
   "cell_type": "code",
   "execution_count": 9,
   "id": "0dc2472b-e04b-4b37-b446-2ce49e29b337",
   "metadata": {},
   "outputs": [],
   "source": [
    "s.index = ['a', 'b', 'c', 'd']\n",
    "s.name = 'my_series'"
   ]
  },
  {
   "cell_type": "code",
   "execution_count": 10,
   "id": "123ce570-cbb9-4450-89de-4df1bf9e7e69",
   "metadata": {},
   "outputs": [
    {
     "data": {
      "text/plain": [
       "a    1\n",
       "b    5\n",
       "c    2\n",
       "d    5\n",
       "Name: my_series, dtype: int64"
      ]
     },
     "execution_count": 10,
     "metadata": {},
     "output_type": "execute_result"
    }
   ],
   "source": [
    "s"
   ]
  },
  {
   "cell_type": "code",
   "execution_count": 11,
   "id": "f05b01c3-f190-4fc0-bc31-28b0e388f4e8",
   "metadata": {},
   "outputs": [
    {
     "data": {
      "text/plain": [
       "np.int64(5)"
      ]
     },
     "execution_count": 11,
     "metadata": {},
     "output_type": "execute_result"
    }
   ],
   "source": [
    "s['b']"
   ]
  },
  {
   "cell_type": "code",
   "execution_count": 12,
   "id": "59d98be5-a802-4bab-84e0-c30668582e78",
   "metadata": {},
   "outputs": [
    {
     "data": {
      "text/plain": [
       "np.int64(5)"
      ]
     },
     "execution_count": 12,
     "metadata": {},
     "output_type": "execute_result"
    }
   ],
   "source": [
    "s.iloc[1]"
   ]
  },
  {
   "cell_type": "code",
   "execution_count": 13,
   "id": "6711460f-1c97-4c73-8808-b7abc15dd161",
   "metadata": {},
   "outputs": [
    {
     "data": {
      "text/plain": [
       "array([1, 5, 2, 5])"
      ]
     },
     "execution_count": 13,
     "metadata": {},
     "output_type": "execute_result"
    }
   ],
   "source": [
    "s.values"
   ]
  },
  {
   "cell_type": "code",
   "execution_count": 14,
   "id": "ce587621-2519-4bab-8589-de60da91cde9",
   "metadata": {},
   "outputs": [
    {
     "data": {
      "text/plain": [
       "0       a\n",
       "1      45\n",
       "2    45.2\n",
       "dtype: object"
      ]
     },
     "execution_count": 14,
     "metadata": {},
     "output_type": "execute_result"
    }
   ],
   "source": [
    "pd.Series(['a', 45, 45.2])"
   ]
  },
  {
   "cell_type": "code",
   "execution_count": 16,
   "id": "e1605bc7-51fe-429b-8e0f-42b6a3da14ba",
   "metadata": {},
   "outputs": [
    {
     "data": {
      "text/plain": [
       "0    2\n",
       "1    4\n",
       "2    0\n",
       "dtype: int64"
      ]
     },
     "execution_count": 16,
     "metadata": {},
     "output_type": "execute_result"
    }
   ],
   "source": [
    "pd.Series(np.array([2, 4,0]))"
   ]
  },
  {
   "cell_type": "code",
   "execution_count": 17,
   "id": "0224dad4-d7d6-4555-bc3d-a1acbff48d7a",
   "metadata": {},
   "outputs": [],
   "source": [
    "my_dict = {'a': 3.3, 'b': 7, 'c': 10.56}"
   ]
  },
  {
   "cell_type": "code",
   "execution_count": 18,
   "id": "1e76e522-2a90-43df-8071-f6443afc8545",
   "metadata": {},
   "outputs": [
    {
     "data": {
      "text/plain": [
       "a     3.30\n",
       "b     7.00\n",
       "c    10.56\n",
       "dtype: float64"
      ]
     },
     "execution_count": 18,
     "metadata": {},
     "output_type": "execute_result"
    }
   ],
   "source": [
    "pd.Series(my_dict)"
   ]
  },
  {
   "cell_type": "markdown",
   "id": "0e61dd5b-c894-464d-8bae-da1f5f870a7a",
   "metadata": {},
   "source": [
    " # zadanie 2"
   ]
  },
  {
   "cell_type": "code",
   "execution_count": 20,
   "id": "50e65c59-a9c4-45f0-8619-03d10e00359f",
   "metadata": {},
   "outputs": [],
   "source": [
    "matrix = np.array([[2, 3, 4], [4, 5, 2], [1, 4, 3]])"
   ]
  },
  {
   "cell_type": "code",
   "execution_count": 21,
   "id": "5a68109a-3e17-4d3b-8550-afd9ce7fa6c4",
   "metadata": {},
   "outputs": [
    {
     "data": {
      "text/plain": [
       "array([[2, 3, 4],\n",
       "       [4, 5, 2],\n",
       "       [1, 4, 3]])"
      ]
     },
     "execution_count": 21,
     "metadata": {},
     "output_type": "execute_result"
    }
   ],
   "source": [
    "matrix"
   ]
  },
  {
   "cell_type": "code",
   "execution_count": 24,
   "id": "eef77300-c35c-4307-9386-9600e54aa1be",
   "metadata": {},
   "outputs": [],
   "source": [
    "df = pd.DataFrame(matrix)"
   ]
  },
  {
   "cell_type": "code",
   "execution_count": 25,
   "id": "e206fd65-2528-4aa0-a883-6f5921327fa2",
   "metadata": {},
   "outputs": [
    {
     "data": {
      "text/plain": [
       "RangeIndex(start=0, stop=3, step=1)"
      ]
     },
     "execution_count": 25,
     "metadata": {},
     "output_type": "execute_result"
    }
   ],
   "source": [
    "df.index"
   ]
  },
  {
   "cell_type": "code",
   "execution_count": 27,
   "id": "5997b352-fc13-4e90-952c-b2112c2283ee",
   "metadata": {},
   "outputs": [],
   "source": [
    "df.columns = ['koluimna1', 'kolumna2', 'kolumna3']"
   ]
  },
  {
   "cell_type": "code",
   "execution_count": 29,
   "id": "158b4d07-2d52-4e34-bb9f-ca174fce4f05",
   "metadata": {},
   "outputs": [],
   "source": [
    "df.index = ['wiersz1', 'wiersz2', 'wiersz3']"
   ]
  },
  {
   "cell_type": "code",
   "execution_count": 30,
   "id": "e687fd4c-b8a1-4f83-911d-f8d0123e03f3",
   "metadata": {},
   "outputs": [
    {
     "data": {
      "text/html": [
       "<div>\n",
       "<style scoped>\n",
       "    .dataframe tbody tr th:only-of-type {\n",
       "        vertical-align: middle;\n",
       "    }\n",
       "\n",
       "    .dataframe tbody tr th {\n",
       "        vertical-align: top;\n",
       "    }\n",
       "\n",
       "    .dataframe thead th {\n",
       "        text-align: right;\n",
       "    }\n",
       "</style>\n",
       "<table border=\"1\" class=\"dataframe\">\n",
       "  <thead>\n",
       "    <tr style=\"text-align: right;\">\n",
       "      <th></th>\n",
       "      <th>koluimna1</th>\n",
       "      <th>kolumna2</th>\n",
       "      <th>kolumna3</th>\n",
       "    </tr>\n",
       "  </thead>\n",
       "  <tbody>\n",
       "    <tr>\n",
       "      <th>wiersz1</th>\n",
       "      <td>2</td>\n",
       "      <td>3</td>\n",
       "      <td>4</td>\n",
       "    </tr>\n",
       "    <tr>\n",
       "      <th>wiersz2</th>\n",
       "      <td>4</td>\n",
       "      <td>5</td>\n",
       "      <td>2</td>\n",
       "    </tr>\n",
       "    <tr>\n",
       "      <th>wiersz3</th>\n",
       "      <td>1</td>\n",
       "      <td>4</td>\n",
       "      <td>3</td>\n",
       "    </tr>\n",
       "  </tbody>\n",
       "</table>\n",
       "</div>"
      ],
      "text/plain": [
       "         koluimna1  kolumna2  kolumna3\n",
       "wiersz1          2         3         4\n",
       "wiersz2          4         5         2\n",
       "wiersz3          1         4         3"
      ]
     },
     "execution_count": 30,
     "metadata": {},
     "output_type": "execute_result"
    }
   ],
   "source": [
    "df"
   ]
  },
  {
   "cell_type": "code",
   "execution_count": 33,
   "id": "e44490c4-0249-4bd0-b638-89e046453fd4",
   "metadata": {},
   "outputs": [
    {
     "data": {
      "text/plain": [
       "np.int64(5)"
      ]
     },
     "execution_count": 33,
     "metadata": {},
     "output_type": "execute_result"
    }
   ],
   "source": [
    "df.loc['wiersz2', 'kolumna2']"
   ]
  },
  {
   "cell_type": "code",
   "execution_count": 45,
   "id": "41342a4b-2d03-4bb0-86af-991962c3b38a",
   "metadata": {},
   "outputs": [],
   "source": [
    "new_df = df[['kolumna3','kolumna2']]"
   ]
  },
  {
   "cell_type": "code",
   "execution_count": 46,
   "id": "66106837-4b7c-4501-9fd6-5973bd9be7c1",
   "metadata": {},
   "outputs": [
    {
     "name": "stderr",
     "output_type": "stream",
     "text": [
      "C:\\Users\\jolech\\AppData\\Local\\Temp\\ipykernel_5436\\3680604174.py:1: SettingWithCopyWarning: \n",
      "A value is trying to be set on a copy of a slice from a DataFrame\n",
      "\n",
      "See the caveats in the documentation: https://pandas.pydata.org/pandas-docs/stable/user_guide/indexing.html#returning-a-view-versus-a-copy\n",
      "  new_df.loc['wiersz1', 'kolumna2'] = 88\n"
     ]
    }
   ],
   "source": [
    "new_df.loc['wiersz1', 'kolumna2'] = 88"
   ]
  },
  {
   "cell_type": "code",
   "execution_count": 47,
   "id": "07296083-484b-408e-8569-18e47d4a003d",
   "metadata": {},
   "outputs": [
    {
     "data": {
      "text/html": [
       "<div>\n",
       "<style scoped>\n",
       "    .dataframe tbody tr th:only-of-type {\n",
       "        vertical-align: middle;\n",
       "    }\n",
       "\n",
       "    .dataframe tbody tr th {\n",
       "        vertical-align: top;\n",
       "    }\n",
       "\n",
       "    .dataframe thead th {\n",
       "        text-align: right;\n",
       "    }\n",
       "</style>\n",
       "<table border=\"1\" class=\"dataframe\">\n",
       "  <thead>\n",
       "    <tr style=\"text-align: right;\">\n",
       "      <th></th>\n",
       "      <th>kolumna3</th>\n",
       "      <th>kolumna2</th>\n",
       "    </tr>\n",
       "  </thead>\n",
       "  <tbody>\n",
       "    <tr>\n",
       "      <th>wiersz1</th>\n",
       "      <td>4</td>\n",
       "      <td>88</td>\n",
       "    </tr>\n",
       "    <tr>\n",
       "      <th>wiersz2</th>\n",
       "      <td>2</td>\n",
       "      <td>5</td>\n",
       "    </tr>\n",
       "    <tr>\n",
       "      <th>wiersz3</th>\n",
       "      <td>3</td>\n",
       "      <td>4</td>\n",
       "    </tr>\n",
       "  </tbody>\n",
       "</table>\n",
       "</div>"
      ],
      "text/plain": [
       "         kolumna3  kolumna2\n",
       "wiersz1         4        88\n",
       "wiersz2         2         5\n",
       "wiersz3         3         4"
      ]
     },
     "execution_count": 47,
     "metadata": {},
     "output_type": "execute_result"
    }
   ],
   "source": [
    "new_df"
   ]
  },
  {
   "cell_type": "code",
   "execution_count": 49,
   "id": "6f95afb3-793e-4d89-82b7-a96a6cca1f32",
   "metadata": {},
   "outputs": [
    {
     "data": {
      "text/html": [
       "<div>\n",
       "<style scoped>\n",
       "    .dataframe tbody tr th:only-of-type {\n",
       "        vertical-align: middle;\n",
       "    }\n",
       "\n",
       "    .dataframe tbody tr th {\n",
       "        vertical-align: top;\n",
       "    }\n",
       "\n",
       "    .dataframe thead th {\n",
       "        text-align: right;\n",
       "    }\n",
       "</style>\n",
       "<table border=\"1\" class=\"dataframe\">\n",
       "  <thead>\n",
       "    <tr style=\"text-align: right;\">\n",
       "      <th></th>\n",
       "      <th>koluimna1</th>\n",
       "      <th>kolumna2</th>\n",
       "      <th>kolumna3</th>\n",
       "    </tr>\n",
       "  </thead>\n",
       "  <tbody>\n",
       "    <tr>\n",
       "      <th>wiersz1</th>\n",
       "      <td>2</td>\n",
       "      <td>3</td>\n",
       "      <td>4</td>\n",
       "    </tr>\n",
       "    <tr>\n",
       "      <th>wiersz2</th>\n",
       "      <td>4</td>\n",
       "      <td>5</td>\n",
       "      <td>2</td>\n",
       "    </tr>\n",
       "    <tr>\n",
       "      <th>wiersz3</th>\n",
       "      <td>1</td>\n",
       "      <td>4</td>\n",
       "      <td>3</td>\n",
       "    </tr>\n",
       "  </tbody>\n",
       "</table>\n",
       "</div>"
      ],
      "text/plain": [
       "         koluimna1  kolumna2  kolumna3\n",
       "wiersz1          2         3         4\n",
       "wiersz2          4         5         2\n",
       "wiersz3          1         4         3"
      ]
     },
     "execution_count": 49,
     "metadata": {},
     "output_type": "execute_result"
    }
   ],
   "source": [
    "df"
   ]
  },
  {
   "cell_type": "code",
   "execution_count": 52,
   "id": "f42196f2-fb94-47d0-9d17-c79489544c7f",
   "metadata": {},
   "outputs": [
    {
     "data": {
      "text/plain": [
       "np.int64(3)"
      ]
     },
     "execution_count": 52,
     "metadata": {},
     "output_type": "execute_result"
    }
   ],
   "source": [
    "df.iloc[2, 2]"
   ]
  },
  {
   "cell_type": "code",
   "execution_count": 55,
   "id": "37a0a38c-1cea-432f-906c-0f7adbf5a2b2",
   "metadata": {},
   "outputs": [
    {
     "data": {
      "text/html": [
       "<div>\n",
       "<style scoped>\n",
       "    .dataframe tbody tr th:only-of-type {\n",
       "        vertical-align: middle;\n",
       "    }\n",
       "\n",
       "    .dataframe tbody tr th {\n",
       "        vertical-align: top;\n",
       "    }\n",
       "\n",
       "    .dataframe thead th {\n",
       "        text-align: right;\n",
       "    }\n",
       "</style>\n",
       "<table border=\"1\" class=\"dataframe\">\n",
       "  <thead>\n",
       "    <tr style=\"text-align: right;\">\n",
       "      <th></th>\n",
       "      <th>a</th>\n",
       "      <th>b</th>\n",
       "      <th>c</th>\n",
       "    </tr>\n",
       "  </thead>\n",
       "  <tbody>\n",
       "    <tr>\n",
       "      <th>0</th>\n",
       "      <td>3.3</td>\n",
       "      <td>7</td>\n",
       "      <td>10.56</td>\n",
       "    </tr>\n",
       "  </tbody>\n",
       "</table>\n",
       "</div>"
      ],
      "text/plain": [
       "     a  b      c\n",
       "0  3.3  7  10.56"
      ]
     },
     "execution_count": 55,
     "metadata": {},
     "output_type": "execute_result"
    }
   ],
   "source": [
    "pd.DataFrame(my_dict, index=[0])"
   ]
  },
  {
   "cell_type": "code",
   "execution_count": 59,
   "id": "8cb782e2-0771-4373-8c8a-0e4f9cb75cd4",
   "metadata": {},
   "outputs": [
    {
     "data": {
      "text/html": [
       "<div>\n",
       "<style scoped>\n",
       "    .dataframe tbody tr th:only-of-type {\n",
       "        vertical-align: middle;\n",
       "    }\n",
       "\n",
       "    .dataframe tbody tr th {\n",
       "        vertical-align: top;\n",
       "    }\n",
       "\n",
       "    .dataframe thead th {\n",
       "        text-align: right;\n",
       "    }\n",
       "</style>\n",
       "<table border=\"1\" class=\"dataframe\">\n",
       "  <thead>\n",
       "    <tr style=\"text-align: right;\">\n",
       "      <th></th>\n",
       "      <th>name</th>\n",
       "      <th>age</th>\n",
       "    </tr>\n",
       "  </thead>\n",
       "  <tbody>\n",
       "    <tr>\n",
       "      <th>0</th>\n",
       "      <td>ewa</td>\n",
       "      <td>34</td>\n",
       "    </tr>\n",
       "    <tr>\n",
       "      <th>1</th>\n",
       "      <td>magda</td>\n",
       "      <td>23</td>\n",
       "    </tr>\n",
       "    <tr>\n",
       "      <th>2</th>\n",
       "      <td>ala</td>\n",
       "      <td>44</td>\n",
       "    </tr>\n",
       "  </tbody>\n",
       "</table>\n",
       "</div>"
      ],
      "text/plain": [
       "    name  age\n",
       "0    ewa   34\n",
       "1  magda   23\n",
       "2    ala   44"
      ]
     },
     "execution_count": 59,
     "metadata": {},
     "output_type": "execute_result"
    }
   ],
   "source": [
    "pd.DataFrame({'name': ['ewa', 'magda', 'ala'], 'age': [34, 23, 44]})"
   ]
  },
  {
   "cell_type": "code",
   "execution_count": 60,
   "id": "6357e513-21b7-4d65-9bf8-86fd155d9e77",
   "metadata": {},
   "outputs": [],
   "source": [
    "from collections import namedtuple"
   ]
  },
  {
   "cell_type": "code",
   "execution_count": 61,
   "id": "c27afed0-ddaf-43ad-b7a5-26371516728a",
   "metadata": {},
   "outputs": [],
   "source": [
    "Person = namedtuple('Person', ['name', 'age'])"
   ]
  },
  {
   "cell_type": "code",
   "execution_count": 62,
   "id": "bec1506b-1ed5-4b04-8a6e-f30a8ed51cdc",
   "metadata": {},
   "outputs": [],
   "source": [
    "my_list = [Person('ala', 45), Person('ola', 30)]"
   ]
  },
  {
   "cell_type": "code",
   "execution_count": 63,
   "id": "8c1b1de0-fa43-4434-87cc-9b108768673c",
   "metadata": {},
   "outputs": [
    {
     "data": {
      "text/html": [
       "<div>\n",
       "<style scoped>\n",
       "    .dataframe tbody tr th:only-of-type {\n",
       "        vertical-align: middle;\n",
       "    }\n",
       "\n",
       "    .dataframe tbody tr th {\n",
       "        vertical-align: top;\n",
       "    }\n",
       "\n",
       "    .dataframe thead th {\n",
       "        text-align: right;\n",
       "    }\n",
       "</style>\n",
       "<table border=\"1\" class=\"dataframe\">\n",
       "  <thead>\n",
       "    <tr style=\"text-align: right;\">\n",
       "      <th></th>\n",
       "      <th>name</th>\n",
       "      <th>age</th>\n",
       "    </tr>\n",
       "  </thead>\n",
       "  <tbody>\n",
       "    <tr>\n",
       "      <th>0</th>\n",
       "      <td>ala</td>\n",
       "      <td>45</td>\n",
       "    </tr>\n",
       "    <tr>\n",
       "      <th>1</th>\n",
       "      <td>ola</td>\n",
       "      <td>30</td>\n",
       "    </tr>\n",
       "  </tbody>\n",
       "</table>\n",
       "</div>"
      ],
      "text/plain": [
       "  name  age\n",
       "0  ala   45\n",
       "1  ola   30"
      ]
     },
     "execution_count": 63,
     "metadata": {},
     "output_type": "execute_result"
    }
   ],
   "source": [
    "pd.DataFrame(my_list)"
   ]
  },
  {
   "cell_type": "code",
   "execution_count": 64,
   "id": "a54ba57c-f5fe-4a77-bee8-5e674d489498",
   "metadata": {},
   "outputs": [],
   "source": [
    "from dataclasses import dataclass"
   ]
  },
  {
   "cell_type": "code",
   "execution_count": 65,
   "id": "c20499ec-c10e-4f99-8f61-e13e4c5525b2",
   "metadata": {},
   "outputs": [],
   "source": [
    "@dataclass\n",
    "class Person2:\n",
    "    name: str\n",
    "    age: int"
   ]
  },
  {
   "cell_type": "code",
   "execution_count": 66,
   "id": "2493e21b-db9a-472d-8a71-713926e3f076",
   "metadata": {},
   "outputs": [],
   "source": [
    "my_list = [Person2('ala', 45), Person2('ola', 30)]"
   ]
  },
  {
   "cell_type": "code",
   "execution_count": 68,
   "id": "49895d17-23e0-4fbd-a5c0-1af28f7a6937",
   "metadata": {},
   "outputs": [
    {
     "data": {
      "text/html": [
       "<div>\n",
       "<style scoped>\n",
       "    .dataframe tbody tr th:only-of-type {\n",
       "        vertical-align: middle;\n",
       "    }\n",
       "\n",
       "    .dataframe tbody tr th {\n",
       "        vertical-align: top;\n",
       "    }\n",
       "\n",
       "    .dataframe thead th {\n",
       "        text-align: right;\n",
       "    }\n",
       "</style>\n",
       "<table border=\"1\" class=\"dataframe\">\n",
       "  <thead>\n",
       "    <tr style=\"text-align: right;\">\n",
       "      <th></th>\n",
       "      <th>name</th>\n",
       "      <th>age</th>\n",
       "    </tr>\n",
       "  </thead>\n",
       "  <tbody>\n",
       "    <tr>\n",
       "      <th>0</th>\n",
       "      <td>ala</td>\n",
       "      <td>45</td>\n",
       "    </tr>\n",
       "    <tr>\n",
       "      <th>1</th>\n",
       "      <td>ola</td>\n",
       "      <td>30</td>\n",
       "    </tr>\n",
       "  </tbody>\n",
       "</table>\n",
       "</div>"
      ],
      "text/plain": [
       "  name  age\n",
       "0  ala   45\n",
       "1  ola   30"
      ]
     },
     "execution_count": 68,
     "metadata": {},
     "output_type": "execute_result"
    }
   ],
   "source": [
    "pd.DataFrame(my_list)"
   ]
  },
  {
   "cell_type": "markdown",
   "id": "f5eab7ae-4ba7-431c-b22a-cfe58dfbd64c",
   "metadata": {},
   "source": [
    "# zadanie 3"
   ]
  },
  {
   "cell_type": "code",
   "execution_count": 70,
   "id": "e213b0e5-dd83-4a4e-a53c-9b48eabb2ac0",
   "metadata": {},
   "outputs": [],
   "source": [
    "names = pd.Series(['ala', 'olo'])\n",
    "ages = pd.Series([3, 42])"
   ]
  },
  {
   "cell_type": "code",
   "execution_count": 71,
   "id": "2ede55e9-f5c5-450b-ba08-e739ed17aa89",
   "metadata": {},
   "outputs": [],
   "source": [
    "names.name = 'name'"
   ]
  },
  {
   "cell_type": "code",
   "execution_count": 72,
   "id": "8ef9384b-fc65-4793-a7c9-54d2a76412dc",
   "metadata": {},
   "outputs": [],
   "source": [
    "ages.name = 'age'"
   ]
  },
  {
   "cell_type": "code",
   "execution_count": 75,
   "id": "82baf2c4-196f-4c39-abeb-efba140e938a",
   "metadata": {},
   "outputs": [
    {
     "data": {
      "text/html": [
       "<div>\n",
       "<style scoped>\n",
       "    .dataframe tbody tr th:only-of-type {\n",
       "        vertical-align: middle;\n",
       "    }\n",
       "\n",
       "    .dataframe tbody tr th {\n",
       "        vertical-align: top;\n",
       "    }\n",
       "\n",
       "    .dataframe thead th {\n",
       "        text-align: right;\n",
       "    }\n",
       "</style>\n",
       "<table border=\"1\" class=\"dataframe\">\n",
       "  <thead>\n",
       "    <tr style=\"text-align: right;\">\n",
       "      <th></th>\n",
       "      <th>name</th>\n",
       "      <th>age</th>\n",
       "    </tr>\n",
       "  </thead>\n",
       "  <tbody>\n",
       "    <tr>\n",
       "      <th>0</th>\n",
       "      <td>ala</td>\n",
       "      <td>3</td>\n",
       "    </tr>\n",
       "    <tr>\n",
       "      <th>1</th>\n",
       "      <td>olo</td>\n",
       "      <td>42</td>\n",
       "    </tr>\n",
       "  </tbody>\n",
       "</table>\n",
       "</div>"
      ],
      "text/plain": [
       "  name  age\n",
       "0  ala    3\n",
       "1  olo   42"
      ]
     },
     "execution_count": 75,
     "metadata": {},
     "output_type": "execute_result"
    }
   ],
   "source": [
    "pd.concat([names, ages], axis=1)"
   ]
  },
  {
   "cell_type": "code",
   "execution_count": 74,
   "id": "caca8fea-bdba-4fd0-80c1-884e272f2570",
   "metadata": {},
   "outputs": [
    {
     "data": {
      "text/html": [
       "<div>\n",
       "<style scoped>\n",
       "    .dataframe tbody tr th:only-of-type {\n",
       "        vertical-align: middle;\n",
       "    }\n",
       "\n",
       "    .dataframe tbody tr th {\n",
       "        vertical-align: top;\n",
       "    }\n",
       "\n",
       "    .dataframe thead th {\n",
       "        text-align: right;\n",
       "    }\n",
       "</style>\n",
       "<table border=\"1\" class=\"dataframe\">\n",
       "  <thead>\n",
       "    <tr style=\"text-align: right;\">\n",
       "      <th></th>\n",
       "      <th>0</th>\n",
       "      <th>1</th>\n",
       "    </tr>\n",
       "  </thead>\n",
       "  <tbody>\n",
       "    <tr>\n",
       "      <th>name</th>\n",
       "      <td>ala</td>\n",
       "      <td>olo</td>\n",
       "    </tr>\n",
       "    <tr>\n",
       "      <th>age</th>\n",
       "      <td>3</td>\n",
       "      <td>42</td>\n",
       "    </tr>\n",
       "  </tbody>\n",
       "</table>\n",
       "</div>"
      ],
      "text/plain": [
       "        0    1\n",
       "name  ala  olo\n",
       "age     3   42"
      ]
     },
     "execution_count": 74,
     "metadata": {},
     "output_type": "execute_result"
    }
   ],
   "source": [
    "pd.DataFrame([names, ages])"
   ]
  },
  {
   "cell_type": "markdown",
   "id": "943b01c0-9802-45d0-8a8a-19555af2a635",
   "metadata": {},
   "source": [
    "# zadanie4"
   ]
  },
  {
   "cell_type": "code",
   "execution_count": 7,
   "id": "c15aaf1d-8814-4345-a658-35d75d4e9b29",
   "metadata": {},
   "outputs": [],
   "source": [
    "ser1 = pd.Series([1, 2, 3, 4, 5, 6, 7, 8, 9])"
   ]
  },
  {
   "cell_type": "code",
   "execution_count": 8,
   "id": "ba79261c-7b8d-489a-9cb3-98e17f1f369b",
   "metadata": {},
   "outputs": [],
   "source": [
    "primes = pd.Series([2, 3, 5, 7])"
   ]
  },
  {
   "cell_type": "code",
   "execution_count": 9,
   "id": "dd393a2b-f492-490e-96a7-529f1cd4f081",
   "metadata": {},
   "outputs": [],
   "source": [
    "mask = ser1.isin(primes)"
   ]
  },
  {
   "cell_type": "code",
   "execution_count": 10,
   "id": "a89afd07-8514-4d26-a0bb-f78d33b73082",
   "metadata": {},
   "outputs": [
    {
     "data": {
      "text/plain": [
       "0    False\n",
       "1     True\n",
       "2     True\n",
       "3    False\n",
       "4     True\n",
       "5    False\n",
       "6     True\n",
       "7    False\n",
       "8    False\n",
       "dtype: bool"
      ]
     },
     "execution_count": 10,
     "metadata": {},
     "output_type": "execute_result"
    }
   ],
   "source": [
    "mask"
   ]
  },
  {
   "cell_type": "code",
   "execution_count": 11,
   "id": "85968f62-1465-4be5-a41c-e0ec19ed248f",
   "metadata": {},
   "outputs": [],
   "source": [
    "ser2 = ser1[~mask]"
   ]
  },
  {
   "cell_type": "code",
   "execution_count": 12,
   "id": "bbf2dd66-7e53-42da-970e-e7411622f16c",
   "metadata": {},
   "outputs": [
    {
     "data": {
      "text/plain": [
       "0    1\n",
       "1    4\n",
       "2    6\n",
       "3    8\n",
       "4    9\n",
       "dtype: int64"
      ]
     },
     "execution_count": 12,
     "metadata": {},
     "output_type": "execute_result"
    }
   ],
   "source": [
    "ser2.reset_index(drop = True)"
   ]
  },
  {
   "cell_type": "markdown",
   "id": "7f6555d4-eb23-4bf4-8fe8-6f9ccb322620",
   "metadata": {},
   "source": [
    "# Zadanie 5"
   ]
  },
  {
   "cell_type": "code",
   "execution_count": 13,
   "id": "aa3fd944-2176-428e-b9d9-4f35550b7bd3",
   "metadata": {},
   "outputs": [],
   "source": [
    "ser11 = pd.Series([1, 2, 3, 10, 11, 12]) \n",
    "ser12 = pd.Series([1, 2, 3, -4, -5]) "
   ]
  },
  {
   "cell_type": "code",
   "execution_count": 14,
   "id": "01a220d5-24f8-4560-a416-aff3822350a2",
   "metadata": {},
   "outputs": [],
   "source": [
    "mask1 = ~ser11.isin(ser12)\n",
    "mask2 = ~ser12.isin(ser11)"
   ]
  },
  {
   "cell_type": "code",
   "execution_count": 15,
   "id": "e5c35079-5423-47f3-8565-3a93b229e2e1",
   "metadata": {},
   "outputs": [
    {
     "data": {
      "text/plain": [
       "3    10\n",
       "4    11\n",
       "5    12\n",
       "3    -4\n",
       "4    -5\n",
       "dtype: int64"
      ]
     },
     "execution_count": 15,
     "metadata": {},
     "output_type": "execute_result"
    }
   ],
   "source": [
    "pd.concat([ser11[mask1], ser12[mask2]])"
   ]
  },
  {
   "cell_type": "code",
   "execution_count": 19,
   "id": "73345162-4515-4f34-acde-80341c0372b3",
   "metadata": {},
   "outputs": [],
   "source": [
    "union = np.union1d(ser11, ser12)\n",
    "intersect = np.intersect1d(ser11, ser12)"
   ]
  },
  {
   "cell_type": "code",
   "execution_count": 21,
   "id": "ede2500b-3788-4d5d-a414-442635ccac40",
   "metadata": {},
   "outputs": [
    {
     "data": {
      "text/plain": [
       "0    -5\n",
       "1    -4\n",
       "2    10\n",
       "3    11\n",
       "4    12\n",
       "dtype: int64"
      ]
     },
     "execution_count": 21,
     "metadata": {},
     "output_type": "execute_result"
    }
   ],
   "source": [
    "pd.Series(np.setdiff1d(union, intersect))"
   ]
  },
  {
   "cell_type": "markdown",
   "id": "0eeb3ad3-9a07-4ce2-a1a3-0ae8bbee0bcd",
   "metadata": {},
   "source": [
    "# Zadanie 6"
   ]
  },
  {
   "cell_type": "code",
   "execution_count": 8,
   "id": "42fc477c-35b5-4164-a972-5fb4ca8a5979",
   "metadata": {},
   "outputs": [
    {
     "data": {
      "text/html": [
       "<div>\n",
       "<style scoped>\n",
       "    .dataframe tbody tr th:only-of-type {\n",
       "        vertical-align: middle;\n",
       "    }\n",
       "\n",
       "    .dataframe tbody tr th {\n",
       "        vertical-align: top;\n",
       "    }\n",
       "\n",
       "    .dataframe thead th {\n",
       "        text-align: right;\n",
       "    }\n",
       "</style>\n",
       "<table border=\"1\" class=\"dataframe\">\n",
       "  <thead>\n",
       "    <tr style=\"text-align: right;\">\n",
       "      <th></th>\n",
       "      <th>height</th>\n",
       "      <th>sex</th>\n",
       "    </tr>\n",
       "  </thead>\n",
       "  <tbody>\n",
       "    <tr>\n",
       "      <th>0</th>\n",
       "      <td>175.3</td>\n",
       "      <td>1</td>\n",
       "    </tr>\n",
       "    <tr>\n",
       "      <th>1</th>\n",
       "      <td>193.5</td>\n",
       "      <td>1</td>\n",
       "    </tr>\n",
       "    <tr>\n",
       "      <th>2</th>\n",
       "      <td>186.5</td>\n",
       "      <td>1</td>\n",
       "    </tr>\n",
       "    <tr>\n",
       "      <th>3</th>\n",
       "      <td>187.2</td>\n",
       "      <td>1</td>\n",
       "    </tr>\n",
       "    <tr>\n",
       "      <th>4</th>\n",
       "      <td>181.5</td>\n",
       "      <td>1</td>\n",
       "    </tr>\n",
       "  </tbody>\n",
       "</table>\n",
       "</div>"
      ],
      "text/plain": [
       "   height  sex\n",
       "0   175.3    1\n",
       "1   193.5    1\n",
       "2   186.5    1\n",
       "3   187.2    1\n",
       "4   181.5    1"
      ]
     },
     "execution_count": 8,
     "metadata": {},
     "output_type": "execute_result"
    }
   ],
   "source": [
    "df = pd.read_csv('heights.csv')\n",
    "df.drop('Unnamed: 0', axis=1, inplace=True)\n",
    "df.head()"
   ]
  },
  {
   "cell_type": "code",
   "execution_count": 16,
   "id": "973e83b5-b565-4458-a69c-6901636870df",
   "metadata": {},
   "outputs": [
    {
     "data": {
      "text/plain": [
       "{'max': 198.1,\n",
       " 'min': 157.2,\n",
       " '1st quartile': 172.85000000000002,\n",
       " '2st quartile': 177.8,\n",
       " '3st quartile': 182.775}"
      ]
     },
     "execution_count": 16,
     "metadata": {},
     "output_type": "execute_result"
    }
   ],
   "source": [
    "mask = df['sex'] == 1\n",
    "males = df['height'][mask]\n",
    "\n",
    "{'max': max(males), 'min': min(males), \n",
    " '1st quartile': float(np.quantile(males, q = 0.25)),\n",
    " '2st quartile': float(np.quantile(males, q = 0.5)),\n",
    " '3st quartile': float(np.quantile(males, q = 0.75))}"
   ]
  },
  {
   "cell_type": "code",
   "execution_count": 17,
   "id": "9b7a955c-9e82-469a-81bd-ce021bbcc300",
   "metadata": {},
   "outputs": [
    {
     "data": {
      "text/plain": [
       "{'max': 182.9,\n",
       " 'min': 147.2,\n",
       " '1st quartile': 160.0,\n",
       " '2st quartile': 164.5,\n",
       " '3st quartile': 169.5}"
      ]
     },
     "execution_count": 17,
     "metadata": {},
     "output_type": "execute_result"
    }
   ],
   "source": [
    "mask = df['sex'] == 0\n",
    "females = df['height'][mask]\n",
    "\n",
    "{'max': max(females), 'min': min(females),  \n",
    " '1st quartile': float(np.quantile(females, q = 0.25)),\n",
    " '2st quartile': float(np.quantile(females, q = 0.5)),\n",
    " '3st quartile': float(np.quantile(females, q = 0.75))}"
   ]
  },
  {
   "cell_type": "code",
   "execution_count": 21,
   "id": "0316fbb1-c591-45d2-a854-74b3701f94a4",
   "metadata": {},
   "outputs": [
    {
     "data": {
      "text/html": [
       "<div>\n",
       "<style scoped>\n",
       "    .dataframe tbody tr th:only-of-type {\n",
       "        vertical-align: middle;\n",
       "    }\n",
       "\n",
       "    .dataframe tbody tr th {\n",
       "        vertical-align: top;\n",
       "    }\n",
       "\n",
       "    .dataframe thead th {\n",
       "        text-align: right;\n",
       "    }\n",
       "</style>\n",
       "<table border=\"1\" class=\"dataframe\">\n",
       "  <thead>\n",
       "    <tr style=\"text-align: right;\">\n",
       "      <th></th>\n",
       "      <th>height</th>\n",
       "      <th>sex</th>\n",
       "    </tr>\n",
       "  </thead>\n",
       "  <tbody>\n",
       "    <tr>\n",
       "      <th>0.25</th>\n",
       "      <td>163.80</td>\n",
       "      <td>0.0</td>\n",
       "    </tr>\n",
       "    <tr>\n",
       "      <th>0.50</th>\n",
       "      <td>170.25</td>\n",
       "      <td>0.0</td>\n",
       "    </tr>\n",
       "    <tr>\n",
       "      <th>0.75</th>\n",
       "      <td>177.80</td>\n",
       "      <td>1.0</td>\n",
       "    </tr>\n",
       "  </tbody>\n",
       "</table>\n",
       "</div>"
      ],
      "text/plain": [
       "      height  sex\n",
       "0.25  163.80  0.0\n",
       "0.50  170.25  0.0\n",
       "0.75  177.80  1.0"
      ]
     },
     "execution_count": 21,
     "metadata": {},
     "output_type": "execute_result"
    }
   ],
   "source": [
    "df.quantile([0.25, 0.5, 0.75])"
   ]
  },
  {
   "cell_type": "code",
   "execution_count": 22,
   "id": "c51c2bff-e863-4ab2-93aa-6694b427105d",
   "metadata": {},
   "outputs": [
    {
     "data": {
      "text/html": [
       "<div>\n",
       "<style scoped>\n",
       "    .dataframe tbody tr th:only-of-type {\n",
       "        vertical-align: middle;\n",
       "    }\n",
       "\n",
       "    .dataframe tbody tr th {\n",
       "        vertical-align: top;\n",
       "    }\n",
       "\n",
       "    .dataframe thead th {\n",
       "        text-align: right;\n",
       "    }\n",
       "</style>\n",
       "<table border=\"1\" class=\"dataframe\">\n",
       "  <thead>\n",
       "    <tr style=\"text-align: right;\">\n",
       "      <th></th>\n",
       "      <th>height</th>\n",
       "      <th>sex</th>\n",
       "    </tr>\n",
       "  </thead>\n",
       "  <tbody>\n",
       "    <tr>\n",
       "      <th>count</th>\n",
       "      <td>506.000000</td>\n",
       "      <td>506.000000</td>\n",
       "    </tr>\n",
       "    <tr>\n",
       "      <th>mean</th>\n",
       "      <td>171.138142</td>\n",
       "      <td>0.486166</td>\n",
       "    </tr>\n",
       "    <tr>\n",
       "      <th>std</th>\n",
       "      <td>9.415655</td>\n",
       "      <td>0.500303</td>\n",
       "    </tr>\n",
       "    <tr>\n",
       "      <th>min</th>\n",
       "      <td>147.200000</td>\n",
       "      <td>0.000000</td>\n",
       "    </tr>\n",
       "    <tr>\n",
       "      <th>25%</th>\n",
       "      <td>163.800000</td>\n",
       "      <td>0.000000</td>\n",
       "    </tr>\n",
       "    <tr>\n",
       "      <th>50%</th>\n",
       "      <td>170.250000</td>\n",
       "      <td>0.000000</td>\n",
       "    </tr>\n",
       "    <tr>\n",
       "      <th>75%</th>\n",
       "      <td>177.800000</td>\n",
       "      <td>1.000000</td>\n",
       "    </tr>\n",
       "    <tr>\n",
       "      <th>max</th>\n",
       "      <td>198.100000</td>\n",
       "      <td>1.000000</td>\n",
       "    </tr>\n",
       "  </tbody>\n",
       "</table>\n",
       "</div>"
      ],
      "text/plain": [
       "           height         sex\n",
       "count  506.000000  506.000000\n",
       "mean   171.138142    0.486166\n",
       "std      9.415655    0.500303\n",
       "min    147.200000    0.000000\n",
       "25%    163.800000    0.000000\n",
       "50%    170.250000    0.000000\n",
       "75%    177.800000    1.000000\n",
       "max    198.100000    1.000000"
      ]
     },
     "execution_count": 22,
     "metadata": {},
     "output_type": "execute_result"
    }
   ],
   "source": [
    "df.describe()"
   ]
  },
  {
   "cell_type": "code",
   "execution_count": 25,
   "id": "e48c08e0-762a-4c34-89f3-c4a613b4ad45",
   "metadata": {},
   "outputs": [
    {
     "data": {
      "text/html": [
       "<div>\n",
       "<style scoped>\n",
       "    .dataframe tbody tr th:only-of-type {\n",
       "        vertical-align: middle;\n",
       "    }\n",
       "\n",
       "    .dataframe tbody tr th {\n",
       "        vertical-align: top;\n",
       "    }\n",
       "\n",
       "    .dataframe thead th {\n",
       "        text-align: right;\n",
       "    }\n",
       "</style>\n",
       "<table border=\"1\" class=\"dataframe\">\n",
       "  <thead>\n",
       "    <tr style=\"text-align: right;\">\n",
       "      <th></th>\n",
       "      <th>height</th>\n",
       "    </tr>\n",
       "    <tr>\n",
       "      <th>sex</th>\n",
       "      <th></th>\n",
       "    </tr>\n",
       "  </thead>\n",
       "  <tbody>\n",
       "    <tr>\n",
       "      <th>0</th>\n",
       "      <td>182.9</td>\n",
       "    </tr>\n",
       "    <tr>\n",
       "      <th>1</th>\n",
       "      <td>198.1</td>\n",
       "    </tr>\n",
       "  </tbody>\n",
       "</table>\n",
       "</div>"
      ],
      "text/plain": [
       "     height\n",
       "sex        \n",
       "0     182.9\n",
       "1     198.1"
      ]
     },
     "execution_count": 25,
     "metadata": {},
     "output_type": "execute_result"
    }
   ],
   "source": [
    "df.groupby('sex').max()"
   ]
  },
  {
   "cell_type": "code",
   "execution_count": 28,
   "id": "5ea0ab8a-e68b-4276-807a-5e6217a81537",
   "metadata": {},
   "outputs": [
    {
     "data": {
      "text/html": [
       "<div>\n",
       "<style scoped>\n",
       "    .dataframe tbody tr th:only-of-type {\n",
       "        vertical-align: middle;\n",
       "    }\n",
       "\n",
       "    .dataframe tbody tr th {\n",
       "        vertical-align: top;\n",
       "    }\n",
       "\n",
       "    .dataframe thead tr th {\n",
       "        text-align: left;\n",
       "    }\n",
       "\n",
       "    .dataframe thead tr:last-of-type th {\n",
       "        text-align: right;\n",
       "    }\n",
       "</style>\n",
       "<table border=\"1\" class=\"dataframe\">\n",
       "  <thead>\n",
       "    <tr>\n",
       "      <th></th>\n",
       "      <th colspan=\"8\" halign=\"left\">height</th>\n",
       "    </tr>\n",
       "    <tr>\n",
       "      <th></th>\n",
       "      <th>count</th>\n",
       "      <th>mean</th>\n",
       "      <th>std</th>\n",
       "      <th>min</th>\n",
       "      <th>25%</th>\n",
       "      <th>50%</th>\n",
       "      <th>75%</th>\n",
       "      <th>max</th>\n",
       "    </tr>\n",
       "    <tr>\n",
       "      <th>sex</th>\n",
       "      <th></th>\n",
       "      <th></th>\n",
       "      <th></th>\n",
       "      <th></th>\n",
       "      <th></th>\n",
       "      <th></th>\n",
       "      <th></th>\n",
       "      <th></th>\n",
       "    </tr>\n",
       "  </thead>\n",
       "  <tbody>\n",
       "    <tr>\n",
       "      <th>0</th>\n",
       "      <td>260.0</td>\n",
       "      <td>164.872308</td>\n",
       "      <td>6.544602</td>\n",
       "      <td>147.2</td>\n",
       "      <td>160.00</td>\n",
       "      <td>164.5</td>\n",
       "      <td>169.500</td>\n",
       "      <td>182.9</td>\n",
       "    </tr>\n",
       "    <tr>\n",
       "      <th>1</th>\n",
       "      <td>246.0</td>\n",
       "      <td>177.760569</td>\n",
       "      <td>7.194280</td>\n",
       "      <td>157.2</td>\n",
       "      <td>172.85</td>\n",
       "      <td>177.8</td>\n",
       "      <td>182.775</td>\n",
       "      <td>198.1</td>\n",
       "    </tr>\n",
       "  </tbody>\n",
       "</table>\n",
       "</div>"
      ],
      "text/plain": [
       "    height                                                            \n",
       "     count        mean       std    min     25%    50%      75%    max\n",
       "sex                                                                   \n",
       "0    260.0  164.872308  6.544602  147.2  160.00  164.5  169.500  182.9\n",
       "1    246.0  177.760569  7.194280  157.2  172.85  177.8  182.775  198.1"
      ]
     },
     "execution_count": 28,
     "metadata": {},
     "output_type": "execute_result"
    }
   ],
   "source": [
    "df.groupby('sex').describe()"
   ]
  },
  {
   "cell_type": "code",
   "execution_count": 30,
   "id": "4e76f7d2-4c29-4c02-8a21-c497bb904379",
   "metadata": {},
   "outputs": [],
   "source": [
    "df['new'] = np.random.uniform(size=df.shape[0])"
   ]
  },
  {
   "cell_type": "code",
   "execution_count": 31,
   "id": "45657065-f111-4b16-9673-813cdb139658",
   "metadata": {},
   "outputs": [
    {
     "data": {
      "text/html": [
       "<div>\n",
       "<style scoped>\n",
       "    .dataframe tbody tr th:only-of-type {\n",
       "        vertical-align: middle;\n",
       "    }\n",
       "\n",
       "    .dataframe tbody tr th {\n",
       "        vertical-align: top;\n",
       "    }\n",
       "\n",
       "    .dataframe thead th {\n",
       "        text-align: right;\n",
       "    }\n",
       "</style>\n",
       "<table border=\"1\" class=\"dataframe\">\n",
       "  <thead>\n",
       "    <tr style=\"text-align: right;\">\n",
       "      <th></th>\n",
       "      <th>height</th>\n",
       "      <th>sex</th>\n",
       "      <th>new</th>\n",
       "    </tr>\n",
       "  </thead>\n",
       "  <tbody>\n",
       "    <tr>\n",
       "      <th>0</th>\n",
       "      <td>175.3</td>\n",
       "      <td>1</td>\n",
       "      <td>0.037175</td>\n",
       "    </tr>\n",
       "    <tr>\n",
       "      <th>1</th>\n",
       "      <td>193.5</td>\n",
       "      <td>1</td>\n",
       "      <td>0.770659</td>\n",
       "    </tr>\n",
       "    <tr>\n",
       "      <th>2</th>\n",
       "      <td>186.5</td>\n",
       "      <td>1</td>\n",
       "      <td>0.076552</td>\n",
       "    </tr>\n",
       "    <tr>\n",
       "      <th>3</th>\n",
       "      <td>187.2</td>\n",
       "      <td>1</td>\n",
       "      <td>0.379800</td>\n",
       "    </tr>\n",
       "    <tr>\n",
       "      <th>4</th>\n",
       "      <td>181.5</td>\n",
       "      <td>1</td>\n",
       "      <td>0.336893</td>\n",
       "    </tr>\n",
       "    <tr>\n",
       "      <th>...</th>\n",
       "      <td>...</td>\n",
       "      <td>...</td>\n",
       "      <td>...</td>\n",
       "    </tr>\n",
       "    <tr>\n",
       "      <th>501</th>\n",
       "      <td>176.5</td>\n",
       "      <td>0</td>\n",
       "      <td>0.531634</td>\n",
       "    </tr>\n",
       "    <tr>\n",
       "      <th>502</th>\n",
       "      <td>164.4</td>\n",
       "      <td>0</td>\n",
       "      <td>0.479448</td>\n",
       "    </tr>\n",
       "    <tr>\n",
       "      <th>503</th>\n",
       "      <td>160.7</td>\n",
       "      <td>0</td>\n",
       "      <td>0.013409</td>\n",
       "    </tr>\n",
       "    <tr>\n",
       "      <th>504</th>\n",
       "      <td>174.0</td>\n",
       "      <td>0</td>\n",
       "      <td>0.874008</td>\n",
       "    </tr>\n",
       "    <tr>\n",
       "      <th>505</th>\n",
       "      <td>163.8</td>\n",
       "      <td>0</td>\n",
       "      <td>0.794718</td>\n",
       "    </tr>\n",
       "  </tbody>\n",
       "</table>\n",
       "<p>506 rows × 3 columns</p>\n",
       "</div>"
      ],
      "text/plain": [
       "     height  sex       new\n",
       "0     175.3    1  0.037175\n",
       "1     193.5    1  0.770659\n",
       "2     186.5    1  0.076552\n",
       "3     187.2    1  0.379800\n",
       "4     181.5    1  0.336893\n",
       "..      ...  ...       ...\n",
       "501   176.5    0  0.531634\n",
       "502   164.4    0  0.479448\n",
       "503   160.7    0  0.013409\n",
       "504   174.0    0  0.874008\n",
       "505   163.8    0  0.794718\n",
       "\n",
       "[506 rows x 3 columns]"
      ]
     },
     "execution_count": 31,
     "metadata": {},
     "output_type": "execute_result"
    }
   ],
   "source": [
    "df"
   ]
  },
  {
   "cell_type": "code",
   "execution_count": 32,
   "id": "19463a1d-2a52-4b77-88a1-897e9b47a3c6",
   "metadata": {},
   "outputs": [
    {
     "data": {
      "text/html": [
       "<div>\n",
       "<style scoped>\n",
       "    .dataframe tbody tr th:only-of-type {\n",
       "        vertical-align: middle;\n",
       "    }\n",
       "\n",
       "    .dataframe tbody tr th {\n",
       "        vertical-align: top;\n",
       "    }\n",
       "\n",
       "    .dataframe thead tr th {\n",
       "        text-align: left;\n",
       "    }\n",
       "\n",
       "    .dataframe thead tr:last-of-type th {\n",
       "        text-align: right;\n",
       "    }\n",
       "</style>\n",
       "<table border=\"1\" class=\"dataframe\">\n",
       "  <thead>\n",
       "    <tr>\n",
       "      <th></th>\n",
       "      <th colspan=\"8\" halign=\"left\">height</th>\n",
       "      <th colspan=\"8\" halign=\"left\">new</th>\n",
       "    </tr>\n",
       "    <tr>\n",
       "      <th></th>\n",
       "      <th>count</th>\n",
       "      <th>mean</th>\n",
       "      <th>std</th>\n",
       "      <th>min</th>\n",
       "      <th>25%</th>\n",
       "      <th>50%</th>\n",
       "      <th>75%</th>\n",
       "      <th>max</th>\n",
       "      <th>count</th>\n",
       "      <th>mean</th>\n",
       "      <th>std</th>\n",
       "      <th>min</th>\n",
       "      <th>25%</th>\n",
       "      <th>50%</th>\n",
       "      <th>75%</th>\n",
       "      <th>max</th>\n",
       "    </tr>\n",
       "    <tr>\n",
       "      <th>sex</th>\n",
       "      <th></th>\n",
       "      <th></th>\n",
       "      <th></th>\n",
       "      <th></th>\n",
       "      <th></th>\n",
       "      <th></th>\n",
       "      <th></th>\n",
       "      <th></th>\n",
       "      <th></th>\n",
       "      <th></th>\n",
       "      <th></th>\n",
       "      <th></th>\n",
       "      <th></th>\n",
       "      <th></th>\n",
       "      <th></th>\n",
       "      <th></th>\n",
       "    </tr>\n",
       "  </thead>\n",
       "  <tbody>\n",
       "    <tr>\n",
       "      <th>0</th>\n",
       "      <td>260.0</td>\n",
       "      <td>164.872308</td>\n",
       "      <td>6.544602</td>\n",
       "      <td>147.2</td>\n",
       "      <td>160.00</td>\n",
       "      <td>164.5</td>\n",
       "      <td>169.500</td>\n",
       "      <td>182.9</td>\n",
       "      <td>260.0</td>\n",
       "      <td>0.492116</td>\n",
       "      <td>0.293626</td>\n",
       "      <td>0.007018</td>\n",
       "      <td>0.228718</td>\n",
       "      <td>0.500618</td>\n",
       "      <td>0.764825</td>\n",
       "      <td>0.996471</td>\n",
       "    </tr>\n",
       "    <tr>\n",
       "      <th>1</th>\n",
       "      <td>246.0</td>\n",
       "      <td>177.760569</td>\n",
       "      <td>7.194280</td>\n",
       "      <td>157.2</td>\n",
       "      <td>172.85</td>\n",
       "      <td>177.8</td>\n",
       "      <td>182.775</td>\n",
       "      <td>198.1</td>\n",
       "      <td>246.0</td>\n",
       "      <td>0.497445</td>\n",
       "      <td>0.292141</td>\n",
       "      <td>0.002094</td>\n",
       "      <td>0.248215</td>\n",
       "      <td>0.490768</td>\n",
       "      <td>0.758261</td>\n",
       "      <td>0.990782</td>\n",
       "    </tr>\n",
       "  </tbody>\n",
       "</table>\n",
       "</div>"
      ],
      "text/plain": [
       "    height                                                                new  \\\n",
       "     count        mean       std    min     25%    50%      75%    max  count   \n",
       "sex                                                                             \n",
       "0    260.0  164.872308  6.544602  147.2  160.00  164.5  169.500  182.9  260.0   \n",
       "1    246.0  177.760569  7.194280  157.2  172.85  177.8  182.775  198.1  246.0   \n",
       "\n",
       "                                                                           \n",
       "         mean       std       min       25%       50%       75%       max  \n",
       "sex                                                                        \n",
       "0    0.492116  0.293626  0.007018  0.228718  0.500618  0.764825  0.996471  \n",
       "1    0.497445  0.292141  0.002094  0.248215  0.490768  0.758261  0.990782  "
      ]
     },
     "execution_count": 32,
     "metadata": {},
     "output_type": "execute_result"
    }
   ],
   "source": [
    "df.groupby('sex').describe()"
   ]
  },
  {
   "cell_type": "code",
   "execution_count": null,
   "id": "0458303c-bf96-469d-9009-8531bd857512",
   "metadata": {},
   "outputs": [],
   "source": []
  }
 ],
 "metadata": {
  "kernelspec": {
   "display_name": "Python 3 (ipykernel)",
   "language": "python",
   "name": "python3"
  },
  "language_info": {
   "codemirror_mode": {
    "name": "ipython",
    "version": 3
   },
   "file_extension": ".py",
   "mimetype": "text/x-python",
   "name": "python",
   "nbconvert_exporter": "python",
   "pygments_lexer": "ipython3",
   "version": "3.12.6"
  }
 },
 "nbformat": 4,
 "nbformat_minor": 5
}
