{
 "cells": [
  {
   "cell_type": "code",
   "execution_count": 28,
   "id": "535c2a6f-1876-4941-b57f-23d6175352c5",
   "metadata": {},
   "outputs": [],
   "source": [
    "# %%\n",
    "import random\n",
    "import matplotlib.pyplot as plt\n",
    "\n",
    "class Population:\n",
    "    \"\"\" A population of cratures.\n",
    "\n",
    "    Attributes:\n",
    "        creator (subtype of creature): A class used to create creatures\n",
    "        specimens (set): A set of Creature instances.\n",
    "        history (list): A list of population sizes.\n",
    "    \"\"\"\n",
    "\n",
    "    def __init__(self, creator, n=100):\n",
    "        \"\"\"initalize population w creatures\"\"\"\n",
    "        self.creator = creator\n",
    "        self.specimens = {self.creator() for _ in range(n)}\n",
    "        self.history = []\n",
    "\n",
    "        #self.n = n   getter robi to za nas\n",
    "\n",
    "    @property\n",
    "    def specimens(self):\n",
    "        return self._specimens\n",
    "\n",
    "    @specimens.setter\n",
    "    def specimens(self, value):\n",
    "        self._specimens = value\n",
    "        self.n = len(value)\n",
    "\n",
    "    def natural_selection(self):\n",
    "        \"\"\"Model of natural selection process: kill and reproduce\"\"\"\n",
    "        # Próbujemy zabić wszystkie stwory (dla każdego odpalamy .kill)\n",
    "        #for specimen in self.speciemens:\n",
    "            #specimen.kill()\n",
    "        newborns = {specimen.reproduce() for specimen in self.specimens} - {None}\n",
    "        {specimen.kill() for specimen in self.specimens}\n",
    "        \n",
    "        # Zapisujemy gdzieś poprzedni stan populacji (n)\n",
    "        \n",
    "        self.history.append(self.n)\n",
    "        \n",
    "        # Usuwamy z populacji zabite stwory\n",
    "        \n",
    "        self.specimens = {specimen for specimen in self.specimens\n",
    "                          if specimen.alive} | newborns\n",
    "\n",
    "    def plot_history(self):\n",
    "        plt.plot(self.history)\n",
    "\n",
    "    def plot_histogram(self, parameter): # parameter = 'p+death', na przykład\n",
    "        # self.specimens to jest zbiór stworów a każdy stwór ma swoje p_death\n",
    "        # z każdego stwora biorę jego \"śmietelność\" -> zbiór śmiertelności \n",
    "        # i ten zbiór śmiertelności wizualizuje na histogramie\n",
    "        \n",
    "        plt.hist([getattr(specimen, parameter) for specimen in self.specimens])\n",
    "\n",
    "\n",
    "class Probability:\n",
    "    \n",
    "    \"\"\"Descrpitor for probability attributes\"\"\"\n",
    "\n",
    "    def __set_name__(self, owner, name): # name = 'p_death' albo 'p_reproduce'\n",
    "        # self.public_name = name \n",
    "        self.private_name = '_' + name\n",
    "\n",
    "    def __get__(self, obj, objtype=None): # będizemy odczytywać wartość zapisaną gdzie indziej\n",
    "        # Wartość będize zapisana w _p_death\n",
    "        return getattr(obj,self.private_name) # Zamiast _p_death tu powinna być dowolna nazwa (np. p_reproduce). \n",
    "                                              # Tu używamy self.private_name, który jest str\n",
    "\n",
    "    def __set__(self, obj, value): # tutaj chcemy pinować właściwych wartości ( 0 =<value =< 1)\n",
    "        setattr(obj, self.private_name, min(1, max(0, value))) # Tu też\n",
    "        \n",
    "        #if value < 0:\n",
    "        #    obj._p_death = 0\n",
    "        #elif value > 1:\n",
    "        #    obj._p_death = 1\n",
    "        #else:\n",
    "        #    obj._p_death = value\n",
    "\n",
    "\n",
    "class Creature:\n",
    "    \n",
    "    \"\"\"A creature with probability of death and reproduction.\"\"\"\n",
    "\n",
    "    sigma = 0.02 # Stadnard diviation random component od mutation\n",
    "    p_death = Probability()\n",
    "    p_reproduce = Probability()\n",
    "    \n",
    "    alive = True  # Atrybut\n",
    "    \n",
    "    def __init__(self, p_death=0.2, p_reproduce=0.2):\n",
    "        self.p_death = p_death\n",
    "        self.p_reproduce = p_reproduce\n",
    "        self.alive = True\n",
    "    \n",
    "    def kill(self):  # Metoda\n",
    "        if random.random() <= self.p_death:\n",
    "            self.alive = False\n",
    "            \n",
    "    def reproduce(self):  \n",
    "        if random.random() <= self.p_reproduce and self.alive: \n",
    "            return type(self)()\n",
    "            \n",
    "class Predator(Creature):\n",
    "\n",
    "    p_death_hungry = Probability()\n",
    "    _p_death = Probability()\n",
    "    \n",
    "    def __init__(self, p_death=0.2, p_reproduce=0.2, p_death_hungry=0.8):\n",
    "        \n",
    "        super().__init__(p_death, p_reproduce)\n",
    "        self.p_death_hungry = p_death_hungry\n",
    "        self.hungry = False\n",
    "    \n",
    "    def hunt(self, prey):\n",
    "        if random.random() <= prey.p_hunt and prey.alive:\n",
    "            self.hungry = False\n",
    "            prey.alive = False\n",
    "\n",
    "    @property\n",
    "    def p_death(self):\n",
    "        return self.p_death_hungry if self.hungry else self._p_death\n",
    "\n",
    "    @p_death.setter\n",
    "    def p_death(self, value):\n",
    "        self._p_death = value\n",
    "\n",
    "class Prey(Creature):\n",
    "\n",
    "    p_hunt = Probability()\n",
    "    \n",
    "    def __init__(self, p_death=0.2, p_reproduce=0.2, p_hunt=0.3):\n",
    "        \n",
    "        super().__init__(p_death, p_reproduce)\n",
    "        self.p_hunt = p_hunt\n",
    "\n",
    "def hunting(prey, predators): \n",
    "    # Każdemy elementowi ze zbioru predators.specimens muszę przyporządkować element zbioru\n",
    "    # prey.specimens\n",
    "    # liczba predatorów: predators.n; liczba ofiar prey.n \n",
    "    for predator in predators.specimens:\n",
    "        predator.hungry = True\n",
    "    \n",
    "    n_pairs = min(predators.n, prey.n)\n",
    "    pairs = zip(list(predators.specimens)[:n_pairs], list(prey.specimens)[:n_pairs])\n",
    "    \n",
    "    for predator, prey in pairs:\n",
    "        predator.hunt(prey)\n",
    "\n",
    "def simulation(prey, predators, n):\n",
    "    for _ in range(n):\n",
    "        hunting(prey, predators)\n",
    "        prey.natural_selection()\n",
    "        predators.natural_selection()\n",
    "\n",
    "def plot_history(prey, predators):\n",
    "    plt.plot(list(zip(prey.history, predators.history)))"
   ]
  },
  {
   "cell_type": "code",
   "execution_count": 20,
   "id": "b5fb7448-c480-49b6-ada9-877592a9a513",
   "metadata": {},
   "outputs": [],
   "source": [
    "predator = Predator()"
   ]
  },
  {
   "cell_type": "code",
   "execution_count": 21,
   "id": "d53dc4e0-31ee-4f83-bd23-f6dded4706f5",
   "metadata": {},
   "outputs": [
    {
     "data": {
      "text/plain": [
       "(True, False, 0.2)"
      ]
     },
     "execution_count": 21,
     "metadata": {},
     "output_type": "execute_result"
    }
   ],
   "source": [
    "predator.alive, predator.hungry, predator.p_death"
   ]
  },
  {
   "cell_type": "code",
   "execution_count": 24,
   "id": "9a27b764-87eb-402c-8e11-9da5bd91b25d",
   "metadata": {},
   "outputs": [
    {
     "data": {
      "text/plain": [
       "0.8"
      ]
     },
     "execution_count": 24,
     "metadata": {},
     "output_type": "execute_result"
    }
   ],
   "source": [
    "predator.hungry = True\n",
    "predator.p_death"
   ]
  },
  {
   "cell_type": "code",
   "execution_count": null,
   "id": "70d0ef08-e8b1-4c93-ab9c-e1ad4b3eaadd",
   "metadata": {},
   "outputs": [],
   "source": []
  },
  {
   "cell_type": "code",
   "execution_count": null,
   "id": "7ed6da18-18e9-4451-b443-9864883d9566",
   "metadata": {},
   "outputs": [],
   "source": []
  },
  {
   "cell_type": "code",
   "execution_count": null,
   "id": "6a5d3aea-e0d7-4f26-ae60-ae64c6e064db",
   "metadata": {},
   "outputs": [],
   "source": []
  },
  {
   "cell_type": "code",
   "execution_count": 22,
   "id": "46c304ed-c0ee-4ed8-afac-5226e7ae502f",
   "metadata": {},
   "outputs": [],
   "source": [
    "prey = Prey()"
   ]
  },
  {
   "cell_type": "code",
   "execution_count": 23,
   "id": "3086d28f-a239-423b-b718-45a8c4b2a55e",
   "metadata": {},
   "outputs": [
    {
     "data": {
      "text/plain": [
       "(True, 0.3)"
      ]
     },
     "execution_count": 23,
     "metadata": {},
     "output_type": "execute_result"
    }
   ],
   "source": [
    "prey.alive, prey.p_hunt"
   ]
  },
  {
   "cell_type": "code",
   "execution_count": 18,
   "id": "fcda07ef-2a6e-45e3-b5ff-8cbb3710f48e",
   "metadata": {},
   "outputs": [
    {
     "data": {
      "text/plain": [
       "(False, True)"
      ]
     },
     "execution_count": 18,
     "metadata": {},
     "output_type": "execute_result"
    }
   ],
   "source": [
    "predator.hungry = True \n",
    "predator.hunt(prey)\n",
    "prey.alive, predator.hungry"
   ]
  },
  {
   "cell_type": "code",
   "execution_count": null,
   "id": "0ae5834b-b89d-4bd1-bf08-541fef04fe7d",
   "metadata": {},
   "outputs": [],
   "source": []
  },
  {
   "cell_type": "code",
   "execution_count": 20,
   "id": "1be3deed-54ca-4b41-8d9a-f6f8859ecdf1",
   "metadata": {},
   "outputs": [],
   "source": [
    "n_prey = 300\n",
    "n_predator = 100\n",
    "\n",
    "population_prey = Population(creator=Prey, n=n_prey)\n",
    "population_predators = Population(creator=Predator, n=n_predator)"
   ]
  },
  {
   "cell_type": "code",
   "execution_count": 29,
   "id": "0ff9d625-b974-45d0-8adc-a14787adceb7",
   "metadata": {},
   "outputs": [],
   "source": [
    "simulation(population_prey, population_predators, n=30)"
   ]
  },
  {
   "cell_type": "code",
   "execution_count": 30,
   "id": "aa710cf8-b7a0-47ab-be12-0f67c7f3adb4",
   "metadata": {},
   "outputs": [
    {
     "data": {
      "image/png": "[encoded data removed]",
      "text/plain": [
       "<Figure size 640x480 with 1 Axes>"
      ]
     },
     "metadata": {},
     "output_type": "display_data"
    }
   ],
   "source": [
    "plot_history(population_prey, population_predators)"
   ]
  },
  {
   "cell_type": "code",
   "execution_count": null,
   "id": "b9e289d2-38e1-4038-aa16-4ce63f604b81",
   "metadata": {},
   "outputs": [],
   "source": []
  }
 ],
 "metadata": {
  "kernelspec": {
   "display_name": "Python 3 (ipykernel)",
   "language": "python",
   "name": "python3"
  },
  "language_info": {
   "codemirror_mode": {
    "name": "ipython",
    "version": 3
   },
   "file_extension": ".py",
   "mimetype": "text/x-python",
   "name": "python",
   "nbconvert_exporter": "python",
   "pygments_lexer": "ipython3",
   "version": "3.12.6"
  }
 },
 "nbformat": 4,
 "nbformat_minor": 5
}
