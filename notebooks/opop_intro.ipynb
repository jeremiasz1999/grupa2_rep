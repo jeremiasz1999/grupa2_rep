{
 "cells": [
  {
   "cell_type": "code",
   "execution_count": 2,
   "id": "18bd2eb3-a942-4c02-a9df-6ab9d2c7fa7e",
   "metadata": {},
   "outputs": [],
   "source": [
    "import random\n",
    "import matplotlib.pyplot as plt"
   ]
  },
  {
   "cell_type": "code",
   "execution_count": 25,
   "id": "acd3fe44-5884-4ef2-b7c4-a46c4e37b542",
   "metadata": {},
   "outputs": [],
   "source": [
    "class Population:\n",
    "\n",
    "    def __init__(self, n=100):\n",
    "        self.specimens = {Creature() for _ in range(n)}\n",
    "        self.history = []\n",
    "\n",
    "        #self.n = n   getter robi to za nas\n",
    "\n",
    "    @property\n",
    "    def specimens(self):\n",
    "        return self._specimens\n",
    "\n",
    "    @specimens.setter\n",
    "    def specimens(self, value):\n",
    "        self._specimens = value\n",
    "        self.n = len(value)\n",
    "\n",
    "    def natural_selection(self):   \n",
    "        # Próbujemy zabić wszystkie stwory (dla każdego odpalamy .kill)\n",
    "        #for specimen in self.speciemens:\n",
    "            #specimen.kill()\n",
    "        newborns = {specimen.reproduce() for specimen in self.specimens} - {None}\n",
    "        {specimen.kill() for specimen in self.specimens}\n",
    "        \n",
    "        # Zapisujemy gdzieś poprzedni stan populacji (n)\n",
    "        \n",
    "        self.history.append(self.n)\n",
    "        \n",
    "        # Usuwamy z populacji zabite stwory\n",
    "        \n",
    "        self.specimens = {specimen for specimen in self.specimens\n",
    "                          if specimen.alive} | newborns\n",
    "\n",
    "    def plot_history(self):\n",
    "        plt.plot(self.history)\n",
    "\n",
    "    def plot_histogram(self, parameter): # parameter = 'p+death', na przykład\n",
    "        # self.specimens to jest zbiór stworów a każdy stwór ma swoje p_death\n",
    "        # z każdego stwora biorę jego \"śmietelność\" -> zbiór śmiertelności \n",
    "        # i ten zbiór śmiertelności wizualizuje na histogramie\n",
    "        \n",
    "        plt.hist([getattr(specimen, parameter) for specimen in self.specimens])\n",
    "\n",
    "\n",
    "class Probability:\n",
    "\n",
    "    def __set_name__(self, owner, name): # name = 'p_death' albo 'p_reproduce'\n",
    "        # self.public_name = name \n",
    "        self.private_name = '_' + name\n",
    "\n",
    "    def __get__(self, obj, objtype=None): # będizemy odczytywać wartość zapisaną gdzie indziej\n",
    "        # Wartość będize zapisana w _p_death\n",
    "        return getattr(obj,self.private_name) # Zamiast _p_death tu powinna być dowolna nazwa (np. p_reproduce). \n",
    "                                              # Tu używamy self.private_name, który jest str\n",
    "\n",
    "    def __set__(self, obj, value): # tutaj chcemy pinować właściwych wartości ( 0 =<value =< 1)\n",
    "        setattr(obj, self.private_name, min(1, max(0, value))) # Tu też\n",
    "        \n",
    "        #if value < 0:\n",
    "        #    obj._p_death = 0\n",
    "        #elif value > 1:\n",
    "        #    obj._p_death = 1\n",
    "        #else:\n",
    "        #    obj._p_death = value\n",
    "\n",
    "\n",
    "class Creature:\n",
    "\n",
    "    sigma = 0.02\n",
    "    p_death = Probability()\n",
    "    p_reproduce = Probability()\n",
    "    \n",
    "    alive = True  # Atrybut\n",
    "    \n",
    "    def __init__(self, p_death=0.2, p_reproduce=0.2):\n",
    "        self.p_death = p_death\n",
    "        self.p_reproduce = p_reproduce\n",
    "        self.alive = True\n",
    "    \n",
    "    def kill(self):  # Metoda\n",
    "        if random.random() <= self.p_death:\n",
    "            self.alive = False\n",
    "            \n",
    "    def reproduce(self):  \n",
    "        if random.random() <= self.p_reproduce and self.alive: \n",
    "            return Creature(p_death = self.p_death + random.gauss(mu=0, sigma=Creature.sigma),\n",
    "                            p_reproduce = self.p_reproduce + random.gauss(mu=0, sigma=Creature.sigma))"
   ]
  },
  {
   "cell_type": "code",
   "execution_count": 3,
   "id": "463c8d4b-eda0-4e23-ba21-244fa0ff723e",
   "metadata": {},
   "outputs": [],
   "source": [
    "meduza = Creature()"
   ]
  },
  {
   "cell_type": "code",
   "execution_count": 4,
   "id": "c6356060-7324-48b6-b638-04a93f8aea58",
   "metadata": {},
   "outputs": [
    {
     "data": {
      "text/plain": [
       "True"
      ]
     },
     "execution_count": 4,
     "metadata": {},
     "output_type": "execute_result"
    }
   ],
   "source": [
    "meduza.alive"
   ]
  },
  {
   "cell_type": "code",
   "execution_count": 5,
   "id": "14692a32-640c-4a09-8421-c4d5588bce2b",
   "metadata": {},
   "outputs": [
    {
     "data": {
      "text/plain": [
       "True"
      ]
     },
     "execution_count": 5,
     "metadata": {},
     "output_type": "execute_result"
    }
   ],
   "source": [
    "meduza.kill()\n",
    "meduza.alive"
   ]
  },
  {
   "cell_type": "code",
   "execution_count": 6,
   "id": "ea46629f-3e94-4964-9406-dbe4a1ce182b",
   "metadata": {},
   "outputs": [
    {
     "data": {
      "text/plain": [
       "True"
      ]
     },
     "execution_count": 6,
     "metadata": {},
     "output_type": "execute_result"
    }
   ],
   "source": [
    "meduza.kill()\n",
    "meduza.alive"
   ]
  },
  {
   "cell_type": "code",
   "execution_count": 7,
   "id": "bbb47c26-d44b-49b5-a76d-fbbe5b9f42be",
   "metadata": {},
   "outputs": [
    {
     "data": {
      "text/plain": [
       "True"
      ]
     },
     "execution_count": 7,
     "metadata": {},
     "output_type": "execute_result"
    }
   ],
   "source": [
    "meduza.kill()\n",
    "meduza.alive"
   ]
  },
  {
   "cell_type": "code",
   "execution_count": 8,
   "id": "109b8d0e-c2e3-4a4f-9ea0-33fba2d7e773",
   "metadata": {},
   "outputs": [
    {
     "data": {
      "text/plain": [
       "True"
      ]
     },
     "execution_count": 8,
     "metadata": {},
     "output_type": "execute_result"
    }
   ],
   "source": [
    "meduza.kill()\n",
    "meduza.alive"
   ]
  },
  {
   "cell_type": "code",
   "execution_count": 9,
   "id": "8fa39920-10d6-45e2-a21a-500749670c1e",
   "metadata": {},
   "outputs": [
    {
     "data": {
      "text/plain": [
       "True"
      ]
     },
     "execution_count": 9,
     "metadata": {},
     "output_type": "execute_result"
    }
   ],
   "source": [
    "meduza.kill()\n",
    "meduza.alive"
   ]
  },
  {
   "cell_type": "code",
   "execution_count": 10,
   "id": "d64e56fd-88f8-48d4-8668-c719c972f233",
   "metadata": {},
   "outputs": [
    {
     "data": {
      "text/plain": [
       "True"
      ]
     },
     "execution_count": 10,
     "metadata": {},
     "output_type": "execute_result"
    }
   ],
   "source": [
    "meduza.kill()\n",
    "meduza.alive"
   ]
  },
  {
   "cell_type": "code",
   "execution_count": 11,
   "id": "ff681fc6-1479-461e-9967-479437bc6a51",
   "metadata": {},
   "outputs": [
    {
     "data": {
      "text/plain": [
       "False"
      ]
     },
     "execution_count": 11,
     "metadata": {},
     "output_type": "execute_result"
    }
   ],
   "source": [
    "meduza.kill()\n",
    "meduza.alive"
   ]
  },
  {
   "cell_type": "code",
   "execution_count": 12,
   "id": "7909ec8a-e04d-444e-aa68-a6dc50711dc3",
   "metadata": {},
   "outputs": [],
   "source": [
    "meduza.reproduce() "
   ]
  },
  {
   "cell_type": "code",
   "execution_count": 13,
   "id": "dae1cb08-393f-4074-9be0-ee8278c1698d",
   "metadata": {},
   "outputs": [],
   "source": [
    "meduza.reproduce() "
   ]
  },
  {
   "cell_type": "code",
   "execution_count": 14,
   "id": "b2dd03d7-b197-4e2d-b809-c4e0958fe2ed",
   "metadata": {},
   "outputs": [],
   "source": [
    "meduza.reproduce() "
   ]
  },
  {
   "cell_type": "code",
   "execution_count": 15,
   "id": "b1fa56bd-ab85-4539-9c66-00b3c88be0d1",
   "metadata": {},
   "outputs": [],
   "source": [
    "meduza.reproduce() "
   ]
  },
  {
   "cell_type": "code",
   "execution_count": 26,
   "id": "424793eb-f3b9-4220-ab2e-be8de461b1c6",
   "metadata": {},
   "outputs": [],
   "source": [
    "population = Population()"
   ]
  },
  {
   "cell_type": "code",
   "execution_count": 27,
   "id": "526e9962-1398-4056-919b-038e07122833",
   "metadata": {},
   "outputs": [],
   "source": [
    "for _ in range(40):\n",
    "    population.natural_selection()"
   ]
  },
  {
   "cell_type": "code",
   "execution_count": 28,
   "id": "f5fb32b7-437d-4211-88bb-6f888e747401",
   "metadata": {},
   "outputs": [
    {
     "data": {
      "text/plain": [
       "289"
      ]
     },
     "execution_count": 28,
     "metadata": {},
     "output_type": "execute_result"
    }
   ],
   "source": [
    "population.n"
   ]
  },
  {
   "cell_type": "code",
   "execution_count": 29,
   "id": "4a73412a-3d68-40eb-b635-702f60f75a33",
   "metadata": {},
   "outputs": [
    {
     "data": {
      "image/png": "[encoded data removed]",
      "text/plain": [
       "<Figure size 640x480 with 1 Axes>"
      ]
     },
     "metadata": {},
     "output_type": "display_data"
    }
   ],
   "source": [
    "population.plot_history()"
   ]
  },
  {
   "cell_type": "code",
   "execution_count": 30,
   "id": "c45207f1-464a-4b47-9bec-74344a9c0f2b",
   "metadata": {},
   "outputs": [
    {
     "data": {
      "image/png": "[encoded data removed]",
      "text/plain": [
       "<Figure size 640x480 with 1 Axes>"
      ]
     },
     "metadata": {},
     "output_type": "display_data"
    }
   ],
   "source": [
    "population.plot_histogram('p_death')"
   ]
  },
  {
   "cell_type": "code",
   "execution_count": 31,
   "id": "9a97e4a2-117e-47c6-a690-1cac860bd395",
   "metadata": {},
   "outputs": [
    {
     "data": {
      "image/png": "[encoded data removed]",
      "text/plain": [
       "<Figure size 640x480 with 1 Axes>"
      ]
     },
     "metadata": {},
     "output_type": "display_data"
    }
   ],
   "source": [
    "population.plot_histogram('p_reproduce')"
   ]
  },
  {
   "cell_type": "code",
   "execution_count": 32,
   "id": "c9008051-551b-4173-9e1e-5c9be2b946a3",
   "metadata": {},
   "outputs": [],
   "source": [
    "my_creature = Creature()"
   ]
  },
  {
   "cell_type": "code",
   "execution_count": 33,
   "id": "04da2d1a-7514-4d8b-9a2d-89924065446b",
   "metadata": {},
   "outputs": [
    {
     "data": {
      "text/plain": [
       "0.2"
      ]
     },
     "execution_count": 33,
     "metadata": {},
     "output_type": "execute_result"
    }
   ],
   "source": [
    "my_creature.p_death"
   ]
  },
  {
   "cell_type": "code",
   "execution_count": 34,
   "id": "22db7e02-86a5-4917-ae8e-e9a350929184",
   "metadata": {},
   "outputs": [
    {
     "data": {
      "text/plain": [
       "1"
      ]
     },
     "execution_count": 34,
     "metadata": {},
     "output_type": "execute_result"
    }
   ],
   "source": [
    "my_creature.p_death = 500\n",
    "my_creature.p_death"
   ]
  },
  {
   "cell_type": "code",
   "execution_count": null,
   "id": "af5535a5-6d72-4e12-a54a-bc0e2903fffe",
   "metadata": {},
   "outputs": [],
   "source": []
  }
 ],
 "metadata": {
  "jupytext": {
   "formats": "ipynb,py:percent"
  },
  "kernelspec": {
   "display_name": "Python 3 (ipykernel)",
   "language": "python",
   "name": "python3"
  },
  "language_info": {
   "codemirror_mode": {
    "name": "ipython",
    "version": 3
   },
   "file_extension": ".py",
   "mimetype": "text/x-python",
   "name": "python",
   "nbconvert_exporter": "python",
   "pygments_lexer": "ipython3",
   "version": "3.12.6"
  }
 },
 "nbformat": 4,
 "nbformat_minor": 5
}
