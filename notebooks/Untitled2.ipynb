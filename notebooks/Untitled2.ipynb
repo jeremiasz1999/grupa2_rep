{
 "cells": [
  {
   "cell_type": "markdown",
   "id": "97f2a4af-514c-49ee-b0b2-c6c77899c717",
   "metadata": {},
   "source": [
    "# **Typowanie zmiennych w Pythonie**"
   ]
  },
  {
   "cell_type": "markdown",
   "id": "041db027-8b67-4d6f-ba2b-67218b64ae5b",
   "metadata": {},
   "source": [
    "## Typy zmiennych"
   ]
  },
  {
   "cell_type": "markdown",
   "id": "3625c02f-3c7f-44f8-8299-9f1df09bcedf",
   "metadata": {},
   "source": [
    "Lista typów:"
   ]
  },
  {
   "cell_type": "code",
   "execution_count": 67,
   "id": "1c8c605f-dfb4-4972-bbb0-09dfc4af106c",
   "metadata": {},
   "outputs": [
    {
     "name": "stdout",
     "output_type": "stream",
     "text": [
      "<class 'int'>\n",
      "<class 'float'>\n",
      "<class 'bool'>\n",
      "<class 'str'>\n",
      "<class 'bytes'>\n",
      "<class 'set'>\n"
     ]
    }
   ],
   "source": [
    "list = [1, 10.0, True, \"test\", b\"test\", {1, \"2\"}]\n",
    "for _ in list:\n",
    "    print(type(_))"
   ]
  },
  {
   "cell_type": "code",
   "execution_count": 58,
   "id": "d42b6f40-1a05-44f5-a6ab-378fd5ccc3ae",
   "metadata": {},
   "outputs": [
    {
     "name": "stdout",
     "output_type": "stream",
     "text": [
      "<class 'bytes'>\n"
     ]
    }
   ],
   "source": [
    "print(type(x))"
   ]
  },
  {
   "cell_type": "code",
   "execution_count": 70,
   "id": "7877ca8e-8698-4f83-9f33-08a91e667668",
   "metadata": {},
   "outputs": [
    {
     "data": {
      "text/plain": [
       "'ryev'"
      ]
     },
     "execution_count": 70,
     "metadata": {},
     "output_type": "execute_result"
    }
   ],
   "source": [
    "max({\"1\", \"ryev\"})"
   ]
  },
  {
   "cell_type": "code",
   "execution_count": 73,
   "id": "a2a8e53c-9d86-493d-ba8b-48fb68d9ab24",
   "metadata": {},
   "outputs": [
    {
     "ename": "TypeError",
     "evalue": "'>' not supported between instances of 'str' and 'int'",
     "output_type": "error",
     "traceback": [
      "\u001b[1;31m---------------------------------------------------------------------------\u001b[0m",
      "\u001b[1;31mTypeError\u001b[0m                                 Traceback (most recent call last)",
      "Cell \u001b[1;32mIn[73], line 1\u001b[0m\n\u001b[1;32m----> 1\u001b[0m \u001b[38;5;28;43mmax\u001b[39;49m\u001b[43m(\u001b[49m\u001b[43m{\u001b[49m\u001b[38;5;241;43m1\u001b[39;49m\u001b[43m,\u001b[49m\u001b[43m \u001b[49m\u001b[38;5;241;43m5\u001b[39;49m\u001b[43m,\u001b[49m\u001b[43m \u001b[49m\u001b[38;5;241;43m8\u001b[39;49m\u001b[43m,\u001b[49m\u001b[43m \u001b[49m\u001b[38;5;124;43m\"\u001b[39;49m\u001b[38;5;124;43m1\u001b[39;49m\u001b[38;5;124;43m\"\u001b[39;49m\u001b[43m}\u001b[49m\u001b[43m)\u001b[49m\n",
      "\u001b[1;31mTypeError\u001b[0m: '>' not supported between instances of 'str' and 'int'"
     ]
    }
   ],
   "source": [
    "max({1, 5, 8, \"1\"})"
   ]
  },
  {
   "cell_type": "code",
   "execution_count": 77,
   "id": "2f0992b2-914c-443e-a85a-fa75681c6b66",
   "metadata": {},
   "outputs": [
    {
     "data": {
      "text/plain": [
       "3"
      ]
     },
     "execution_count": 77,
     "metadata": {},
     "output_type": "execute_result"
    }
   ],
   "source": [
    "x: tuple[int, str, float] = (3, \"text\", 7.5)\n",
    "x[0]"
   ]
  },
  {
   "cell_type": "code",
   "execution_count": 79,
   "id": "8327be53-78c9-4f63-b096-9cdffa51edb9",
   "metadata": {},
   "outputs": [
    {
     "data": {
      "text/plain": [
       "'text'"
      ]
     },
     "execution_count": 79,
     "metadata": {},
     "output_type": "execute_result"
    }
   ],
   "source": [
    "x: dict[int, str, float] = {\"jeden\": 3, \"dwa\": \"text\",\"trzy\": 7.5}\n",
    "x[\"dwa\"]"
   ]
  },
  {
   "cell_type": "markdown",
   "id": "1c9d25f5-581d-4064-84e1-5bca6947a337",
   "metadata": {},
   "source": [
    "## Typowanie statyczne"
   ]
  },
  {
   "cell_type": "markdown",
   "id": "ce24abcd-4c40-49d6-8a81-49b593cbaef5",
   "metadata": {},
   "source": [
    "## Typowanie dynamiczne"
   ]
  },
  {
   "cell_type": "markdown",
   "id": "4174f400-4315-40f0-aad6-08ea7643287e",
   "metadata": {},
   "source": [
    "## Dodawanie typów zmiennych do funkcji"
   ]
  },
  {
   "cell_type": "code",
   "execution_count": 6,
   "id": "6c358eb3-beb6-4660-92fe-a5397f974c4d",
   "metadata": {},
   "outputs": [],
   "source": [
    "import mypy"
   ]
  },
  {
   "cell_type": "code",
   "execution_count": 1,
   "id": "82488645-039e-4420-aa0f-19b15fd4f756",
   "metadata": {},
   "outputs": [],
   "source": [
    "\"\"\"Dodawanie Type Hints do funkcji\"\"\"\n",
    "\n",
    "def headline(text: str, align: bool = True) -> str:\n",
    "    if align:\n",
    "        return f\"{text.title()}\\n{'-' * len(text)}\"\n",
    "    else:\n",
    "        return f\" {text.title()} \".center(50, \"o\")"
   ]
  },
  {
   "cell_type": "code",
   "execution_count": 11,
   "id": "4b274a9f-117e-470f-a274-10e30e47d471",
   "metadata": {},
   "outputs": [
    {
     "name": "stdout",
     "output_type": "stream",
     "text": [
      "Python Type Checking\n",
      "--------------------\n"
     ]
    }
   ],
   "source": [
    "print(headline(\"python type checking\"))"
   ]
  },
  {
   "cell_type": "code",
   "execution_count": 12,
   "id": "9c77df5d-895e-4998-a72d-70993da5f71e",
   "metadata": {},
   "outputs": [
    {
     "name": "stdout",
     "output_type": "stream",
     "text": [
      "oooooooooooooo Python Type Checking oooooooooooooo\n"
     ]
    }
   ],
   "source": [
    "print(headline(\"python type checking\", align=False))"
   ]
  },
  {
   "cell_type": "code",
   "execution_count": 34,
   "id": "c2d5771e-2cff-4186-a912-835b8ba46f18",
   "metadata": {},
   "outputs": [
    {
     "name": "stdout",
     "output_type": "stream",
     "text": [
      "Python Type Checking\n",
      "--------------------\n"
     ]
    }
   ],
   "source": [
    "print(headline(\"python type checking\", align=\"center\"))"
   ]
  },
  {
   "cell_type": "code",
   "execution_count": 7,
   "id": "50f81d68-5a74-4192-a725-4a47c98383c3",
   "metadata": {},
   "outputs": [
    {
     "name": "stdout",
     "output_type": "stream",
     "text": [
      "headlines.py:8: \u001b[1m\u001b[91merror:\u001b[0m Argument \u001b[0m\u001b[1m\"align\"\u001b[0m to \u001b[0m\u001b[1m\"headline\"\u001b[0m has incompatible type \u001b[0m\u001b[1m\"str\"\u001b[0m; expected \u001b[0m\u001b[1m\"bool\"\u001b[0m  \u001b[0m\u001b[93m[arg-type]\u001b[0m\n",
      "\u001b[1m\u001b[91mFound 1 error in 1 file (checked 1 source file)\u001b[0m\n"
     ]
    }
   ],
   "source": [
    "! mypy headlines.py"
   ]
  },
  {
   "cell_type": "code",
   "execution_count": 26,
   "id": "efa5bd2f-85ce-4988-a730-3715be85f8c0",
   "metadata": {},
   "outputs": [],
   "source": [
    "\"\"\"Ponownie wykorzystujemy funckje headline, ale teraz deklarujemy domyślną wartość drugiej zmiennej jako False\"\"\"\n",
    "\n",
    "def headline_2(text, centred: bool = False) -> str:\n",
    "    if not centred:\n",
    "        return f\"{text.title()}\\n{'-' * len(text)}\"\n",
    "    else:\n",
    "        return f\" {text.title()} \".center(50, \"o\")"
   ]
  },
  {
   "cell_type": "code",
   "execution_count": 27,
   "id": "5133f292-6889-4e75-8377-0bd7c45156ca",
   "metadata": {},
   "outputs": [
    {
     "name": "stdout",
     "output_type": "stream",
     "text": [
      "oooooooooooooo Python Type Checking oooooooooooooo\n"
     ]
    }
   ],
   "source": [
    "print(headline_2(\"python type checking\", centred=True))"
   ]
  },
  {
   "cell_type": "markdown",
   "id": "9c07b5ce-aa3a-499f-9344-9ce0b2631f1d",
   "metadata": {},
   "source": [
    "## Wady i zalety typowania zmiennych"
   ]
  },
  {
   "cell_type": "markdown",
   "id": "286da9e2-0881-4acb-8b3f-f6b14d0fbac2",
   "metadata": {},
   "source": [
    "Zalety typowania zmiennych:\n",
    "- Dokumnetacja kodu pozwala innym użytkowanikom poprawnie odczytać kod.\n",
    "- Dzięki typowaniu zmiennych nasz interpreter jest w stanie udzielać nam podpowiedzi.\n",
    "- Pozowala utrzymać czystość kodu, przy częstym stosowaniu duck typing łatwo się pogubić."
   ]
  },
  {
   "cell_type": "markdown",
   "id": "3c5feadb-b7b2-4156-afe1-fe5e501ddb4c",
   "metadata": {},
   "source": [
    "Wady typowania zmiennych: \n",
    "- Wymaga więcej czasu podczas pisania kodu, z drugiej strony prawdopodobnie poświęcimy mniej czasu na szukaniu błędów.\n",
    "- Adnotacje do funkcji czy danych są stosunkowo nowym sposobem na typowanie danych i zostały wprowadzone od pythona 3.0.\n",
    "- Typowanie może sprawić że skrypt będzie się dłużej uruchamiał (dotyczy to szczególnie tych krótkich)."
   ]
  },
  {
   "cell_type": "markdown",
   "id": "a16520d8-7831-43d2-a547-3bf614c1d9d9",
   "metadata": {},
   "source": [
    "Nie ma jednoznacznej dopowiedzi kiedy powinniśmy używać typowania danych. Na pewno nie należy popadać w żadną skrajność. Warto skupić się\n",
    "na najważenijszych częściach kodu i odpowiednio go opisać."
   ]
  },
  {
   "cell_type": "markdown",
   "id": "c6c26f9f-21e8-4406-bef3-891e4aca1d33",
   "metadata": {},
   "source": [
    "## Type Annotations or Type comments"
   ]
  },
  {
   "cell_type": "markdown",
   "id": "a05e9698-b613-4318-b22e-65684707ec8d",
   "metadata": {},
   "source": [
    "Adnotacje służą do opisu argumentów funkcji oraz wartości, które ma zwrócić: "
   ]
  },
  {
   "cell_type": "code",
   "execution_count": 3,
   "id": "e4151040-56f4-4552-918e-781d5c25d5ee",
   "metadata": {},
   "outputs": [],
   "source": [
    "# def func(arg: arg_type, optarg: arg_type = default) -> return_type:"
   ]
  },
  {
   "cell_type": "markdown",
   "id": "3ea572f1-82d4-47a7-b416-0aa5b9f3aa4b",
   "metadata": {},
   "source": [
    "Argumenty funkcji opisujemy następująco argument: adnotacja typu. Typ wartości, którą zwróci -> adnotacja. Typy danych,\n",
    "które można wyróżnić zostały opisane w 1 rozdziale."
   ]
  },
  {
   "cell_type": "code",
   "execution_count": 7,
   "id": "76b67ee1-8ab2-4182-a2e7-22331ffdf6c9",
   "metadata": {},
   "outputs": [],
   "source": [
    "import math\n",
    "\n",
    "\"\"\"Funkcja liczy obwód koła\"\"\"\n",
    "\n",
    "def circumference(radius: float) -> float:\n",
    "    return 2 * math.pi * radius"
   ]
  },
  {
   "cell_type": "code",
   "execution_count": 21,
   "id": "d8fb8614-3434-42ad-82b4-9b67fae6b409",
   "metadata": {},
   "outputs": [
    {
     "data": {
      "text/plain": [
       "{'radius': float, 'return': float}"
      ]
     },
     "execution_count": 21,
     "metadata": {},
     "output_type": "execute_result"
    }
   ],
   "source": [
    "circumference.__annotations__"
   ]
  },
  {
   "cell_type": "code",
   "execution_count": 28,
   "id": "e8d5a225-17cf-4765-bacf-63a02f2ae9cc",
   "metadata": {},
   "outputs": [
    {
     "data": {
      "text/plain": [
       "25.132741228718345"
      ]
     },
     "execution_count": 28,
     "metadata": {},
     "output_type": "execute_result"
    }
   ],
   "source": [
    "circumference(4)"
   ]
  },
  {
   "cell_type": "code",
   "execution_count": 31,
   "id": "854c1f06-99fd-4671-b8ef-d8da328b7b66",
   "metadata": {},
   "outputs": [
    {
     "name": "stdout",
     "output_type": "stream",
     "text": [
      "\u001b[1m\u001b[92mSuccess: no issues found in 1 source file\u001b[0m\n"
     ]
    }
   ],
   "source": [
    "! mypy circumference.py"
   ]
  },
  {
   "cell_type": "code",
   "execution_count": 40,
   "id": "4ee22efe-0cae-41a8-aa14-bffe542d2d27",
   "metadata": {},
   "outputs": [
    {
     "name": "stdout",
     "output_type": "stream",
     "text": [
      "<class 'str'>\n"
     ]
    }
   ],
   "source": [
    "def reveal_type(x):\n",
    "    return type(x)\n",
    "    \n",
    "print(reveal_type(\"tekst\"))"
   ]
  },
  {
   "cell_type": "code",
   "execution_count": 42,
   "id": "f2a28a63-e15b-473f-a276-4693acec50e6",
   "metadata": {},
   "outputs": [],
   "source": [
    "# \"\"\"zmienne bez adnotacji\"\"\"\n",
    "\n",
    "# import math\n",
    "\n",
    "# reveal_type(math.pi)\n",
    "\n",
    "# radius = 1\n",
    "# circumference = 2 * math.pi * radius\n",
    "# reveal_locals()"
   ]
  },
  {
   "cell_type": "code",
   "execution_count": 34,
   "id": "e6104610-ba1f-4d17-a3b6-8e5327554678",
   "metadata": {},
   "outputs": [
    {
     "name": "stdout",
     "output_type": "stream",
     "text": [
      "reveal.py:5: \u001b[94mnote:\u001b[0m Revealed type is \u001b[0m\u001b[1m\"builtins.float\"\u001b[0m\u001b[0m\n",
      "reveal.py:9: \u001b[94mnote:\u001b[0m Revealed local types are:\u001b[0m\n",
      "reveal.py:9: \u001b[94mnote:\u001b[0m     circumference: builtins.float\u001b[0m\n",
      "reveal.py:9: \u001b[94mnote:\u001b[0m     radius: builtins.int\u001b[0m\n",
      "\u001b[1m\u001b[92mSuccess: no issues found in 1 source file\u001b[0m\n"
     ]
    }
   ],
   "source": [
    "! mypy reveal.py"
   ]
  },
  {
   "cell_type": "markdown",
   "id": "6f572367-4951-4177-9b9e-56a7539e860e",
   "metadata": {},
   "source": [
    "Jak widać powyżej mypy odczytał typy zmiennych bez adnotacji."
   ]
  },
  {
   "cell_type": "code",
   "execution_count": 52,
   "id": "565b1881-9ccc-45a8-b527-8a081f9b1fc8",
   "metadata": {},
   "outputs": [],
   "source": [
    "pi: int = 3.142\n",
    "\n",
    "def circumference(radius: float) -> float:\n",
    "    return 2 * pi * radius"
   ]
  },
  {
   "cell_type": "code",
   "execution_count": 53,
   "id": "3956e27c-48d4-4e1b-ab0b-d43d880d7c57",
   "metadata": {},
   "outputs": [
    {
     "data": {
      "text/plain": [
       "{'radius': float, 'return': float}"
      ]
     },
     "execution_count": 53,
     "metadata": {},
     "output_type": "execute_result"
    }
   ],
   "source": [
    "circumference.__annotations__"
   ]
  },
  {
   "cell_type": "code",
   "execution_count": 54,
   "id": "d95dc844-27ad-4faf-9023-3938a5c5dda5",
   "metadata": {},
   "outputs": [
    {
     "data": {
      "text/plain": [
       "{'pi': int}"
      ]
     },
     "execution_count": 54,
     "metadata": {},
     "output_type": "execute_result"
    }
   ],
   "source": [
    "__annotations__"
   ]
  },
  {
   "cell_type": "code",
   "execution_count": 13,
   "id": "a3b877f5-1343-4b81-b82a-91615e1a40a8",
   "metadata": {},
   "outputs": [
    {
     "name": "stdout",
     "output_type": "stream",
     "text": [
      "circumference2.py:1: \u001b[1m\u001b[91merror:\u001b[0m Incompatible types in assignment (expression has type \u001b[0m\u001b[1m\"float\"\u001b[0m, variable has type \u001b[0m\u001b[1m\"int\"\u001b[0m)  \u001b[0m\u001b[93m[assignment]\u001b[0m\n",
      "\u001b[1m\u001b[91mFound 1 error in 1 file (checked 1 source file)\u001b[0m\n"
     ]
    }
   ],
   "source": [
    "!mypy circumference2.py"
   ]
  },
  {
   "cell_type": "markdown",
   "id": "a0b62c77-2cdb-4c17-b73a-aa4665d3a258",
   "metadata": {},
   "source": [
    "Teraz dodajemy adnotacje poza funckją do zmiennej. Atrybut funkcji: circumference.__annotations\\_\\_ nie przechowuje informacji o typie zmiennych zdefiniowanych poza nią, ale mypy jest w stanie wykryć że nie zgadzają. Wywołanie samego: __annottations\\_\\_ daje nam informacje o typach występujących zmiennych."
   ]
  },
  {
   "cell_type": "markdown",
   "id": "a99a3163-2826-476d-a2a9-0e0e4ed7aa69",
   "metadata": {},
   "source": [
    "Type comments służą również do adnotacji ale Mypy już tego nie wykryje"
   ]
  },
  {
   "cell_type": "markdown",
   "id": "bf4aae18-cc43-4696-8fcf-158dcb8cc87a",
   "metadata": {},
   "source": [
    "Type comments są poprostu komentarzami i można ich użyć w dowolnej wersji Pythona. Używamy ich w następujący sposób # type: typ zmiennej. Poniżej ta sama funkcja circumference,\n",
    "z wykorzystaniem komentarzy do opisu zmiennnych."
   ]
  },
  {
   "cell_type": "code",
   "execution_count": 8,
   "id": "eb423de9-fb69-4d3e-bcb6-d5a0e07f7219",
   "metadata": {},
   "outputs": [],
   "source": [
    "import math\n",
    "\n",
    "def circumference(radius):\n",
    "    # type: (float) -> float\n",
    "    return 2 * math.pi * radius"
   ]
  },
  {
   "cell_type": "code",
   "execution_count": 9,
   "id": "f9572e92-6530-4af1-8c20-2aed670be942",
   "metadata": {},
   "outputs": [
    {
     "data": {
      "text/plain": [
       "{}"
      ]
     },
     "execution_count": 9,
     "metadata": {},
     "output_type": "execute_result"
    }
   ],
   "source": [
    "circumference.__annotations__"
   ]
  },
  {
   "cell_type": "markdown",
   "id": "01af3314-fc9f-4026-943f-f410f6213a14",
   "metadata": {},
   "source": [
    "W przypadku funkcji, która zawiera kilka argumentów może to wyglądać w następujący sposób."
   ]
  },
  {
   "cell_type": "code",
   "execution_count": 10,
   "id": "4b425abe-3a1c-4bc8-93b0-efc49bf3c880",
   "metadata": {},
   "outputs": [],
   "source": [
    "def headline(text, width=80, fill_char=\"-\"):\n",
    "    # type: (str, int, str) -> str\n",
    "    return f\" {text.title()} \".center(width, fill_char)"
   ]
  },
  {
   "cell_type": "code",
   "execution_count": 17,
   "id": "3d0cae7b-fa32-4408-ad92-c36e1e7e1b7f",
   "metadata": {},
   "outputs": [],
   "source": [
    "def headline(\n",
    "    text,           # type: str\n",
    "    width=80,       # type: int\n",
    "    fill_char=\"-\",  # type: str\n",
    "):                  # type: (...) -> str\n",
    "    return f\" {text.title()} \".center(width, fill_char)\n",
    "\n",
    "#print(headline(1, \"tekst\", 50))"
   ]
  },
  {
   "cell_type": "markdown",
   "id": "9235d47d-848d-455f-b7b0-6008edc00af6",
   "metadata": {},
   "source": [
    "Teraz sprawdzimy czy Mypy odczyta typy danych"
   ]
  },
  {
   "cell_type": "code",
   "execution_count": 15,
   "id": "8eb1b77f-f2ab-42ae-b7f1-83f74eb296ec",
   "metadata": {},
   "outputs": [
    {
     "name": "stdout",
     "output_type": "stream",
     "text": [
      "headline.py:8: \u001b[1m\u001b[91merror:\u001b[0m Argument 1 to \u001b[0m\u001b[1m\"headline\"\u001b[0m has incompatible type \u001b[0m\u001b[1m\"int\"\u001b[0m; expected \u001b[0m\u001b[1m\"str\"\u001b[0m  \u001b[0m\u001b[93m[arg-type]\u001b[0m\n",
      "headline.py:8: \u001b[1m\u001b[91merror:\u001b[0m Argument 2 to \u001b[0m\u001b[1m\"headline\"\u001b[0m has incompatible type \u001b[0m\u001b[1m\"str\"\u001b[0m; expected \u001b[0m\u001b[1m\"int\"\u001b[0m  \u001b[0m\u001b[93m[arg-type]\u001b[0m\n",
      "headline.py:8: \u001b[1m\u001b[91merror:\u001b[0m Argument 3 to \u001b[0m\u001b[1m\"headline\"\u001b[0m has incompatible type \u001b[0m\u001b[1m\"int\"\u001b[0m; expected \u001b[0m\u001b[1m\"str\"\u001b[0m  \u001b[0m\u001b[93m[arg-type]\u001b[0m\n",
      "\u001b[1m\u001b[91mFound 3 errors in 1 file (checked 1 source file)\u001b[0m\n"
     ]
    }
   ],
   "source": [
    "!mypy headline.py"
   ]
  },
  {
   "cell_type": "markdown",
   "id": "28c90973-3bc1-4ffb-95f0-407c0c1c0da5",
   "metadata": {},
   "source": [
    "Typy zmiennych można również przedstawić za pomocą komentarzy, tak jak poniżej"
   ]
  },
  {
   "cell_type": "code",
   "execution_count": 28,
   "id": "c3e33035-6a97-498f-976d-629c096eb098",
   "metadata": {},
   "outputs": [],
   "source": [
    "pi = 3.142  # type: float"
   ]
  },
  {
   "cell_type": "code",
   "execution_count": 26,
   "id": "fbdd3a52-bace-419f-a75b-0b6127c15fa0",
   "metadata": {},
   "outputs": [
    {
     "data": {
      "text/plain": [
       "int"
      ]
     },
     "execution_count": 26,
     "metadata": {},
     "output_type": "execute_result"
    }
   ],
   "source": [
    "type(pi)"
   ]
  },
  {
   "cell_type": "markdown",
   "id": "69a38dd7-7a09-444a-b2a8-c4b76cecff48",
   "metadata": {},
   "source": [
    "Adnotacje są oficjalnie zalecanym sposobem typowania danych i będą najlepszym wyborem. Jeśli jednak pracujemy na starszych wersjach Pythona\n",
    "powinniśmy skorzystać z komentarzy."
   ]
  },
  {
   "cell_type": "markdown",
   "id": "e1235548-d214-4860-b396-4155f94e766e",
   "metadata": {},
   "source": [
    "# **Deck of cards**"
   ]
  },
  {
   "cell_type": "markdown",
   "id": "261219c6-1c41-4f51-8ebe-d4e7e5a7ddae",
   "metadata": {},
   "source": [
    "Python zawiera również bardziej skomplikowane typy danych niż str, bool oraz float. Poniżej przedstawimy program który sumuluje grę\n",
    "w karty na 4 osoby. Zaczniemy od przedstawienia kodu który tworzy talię 52 kart"
   ]
  },
  {
   "cell_type": "code",
   "execution_count": 31,
   "id": "53833dfd-32ca-494d-842b-4157313eabe7",
   "metadata": {},
   "outputs": [
    {
     "name": "stdout",
     "output_type": "stream",
     "text": [
      "P1: ♣7 ♡7 ♢7 ♠5 ♣Q ♡10 ♢Q ♡K ♡9 ♣3 ♡4 ♣K ♡8\n",
      "P2: ♣J ♢A ♣10 ♠9 ♡J ♡Q ♡6 ♡2 ♡3 ♢10 ♠10 ♠3 ♠7\n",
      "P3: ♣A ♠Q ♠A ♢K ♠8 ♢8 ♢4 ♡5 ♣9 ♣4 ♢2 ♢6 ♠K\n",
      "P4: ♣6 ♣5 ♢9 ♠4 ♢5 ♣2 ♡A ♢3 ♠6 ♣8 ♠J ♢J ♠2\n"
     ]
    }
   ],
   "source": [
    "# game.py\n",
    "\n",
    "import random\n",
    "\n",
    "SUITS = \"♠ ♡ ♢ ♣\".split()\n",
    "RANKS = \"2 3 4 5 6 7 8 9 10 J Q K A\".split()\n",
    "\n",
    "def create_deck(shuffle=False):\n",
    "    \"\"\"Create a new deck of 52 cards\"\"\"\n",
    "    deck = [(s, r) for r in RANKS for s in SUITS]\n",
    "    if shuffle:\n",
    "        random.shuffle(deck)\n",
    "    return deck\n",
    "\n",
    "def deal_hands(deck):\n",
    "    \"\"\"Deal the cards in the deck into four hands\"\"\"\n",
    "    return (deck[0::4], deck[1::4], deck[2::4], deck[3::4])\n",
    "\n",
    "def play():\n",
    "    \"\"\"Play a 4-player card game\"\"\"\n",
    "    deck = create_deck(shuffle=True)\n",
    "    names = \"P1 P2 P3 P4\".split()\n",
    "    hands = {n: h for n, h in zip(names, deal_hands(deck))}\n",
    "\n",
    "    for name, cards in hands.items():\n",
    "        card_str = \" \".join(f\"{s}{r}\" for (s, r) in cards)\n",
    "        print(f\"{name}: {card_str}\")\n",
    "\n",
    "if __name__ == \"__main__\":\n",
    "    play()"
   ]
  },
  {
   "cell_type": "markdown",
   "id": "e6688c75-0eef-400d-b499-d1ed40b2021e",
   "metadata": {},
   "source": [
    "Każda karta jest krotką, reprezentową przez jeden kolor i jedną wartość. Talia kart jest listą. Funkcja split dzieli tekst na części oddzielone spacją.\n",
    "Funkcja create_deck tworzy nam \"nie przetasowaną\" talię kart. Deal_hands dzieli karty na czterech graczy. Funkcja play na ten moment jedynie tasuje talię oraz definuje graczy jako P1,P2,P3,P4 i przydziela im karty. Zmienna hands łączy nazwy graczy z odpowaidającymi im listami kart, na zasadzie klucz-wartość: zip([\"P1\", \"P2\", \"P3\", \"P4\"], (hand1, hand2, hand3, hand4)). Ostatnia pętla for odpowiada za wyświetlenie kart jako ciągu znaków."
   ]
  },
  {
   "cell_type": "markdown",
   "id": "f8f02e0a-83c6-4499-a016-23d45f595f60",
   "metadata": {},
   "source": [
    "## Teraz postaramy się opisać zmienne w naszym kodzie"
   ]
  },
  {
   "cell_type": "code",
   "execution_count": 40,
   "id": "d7d74467-12da-42dd-aa01-863d165d8c0c",
   "metadata": {},
   "outputs": [],
   "source": [
    "from typing import Dict, List, Tuple\n",
    "\n",
    "names: List[str] = [\"P1\", \"P2\", \"P3\"]\n",
    "version: Tuple[int, int, int] = (3, 7, 1)\n",
    "options: Dict[str, bool] = {\"centered\": False, \"capitalize\": True}"
   ]
  },
  {
   "cell_type": "markdown",
   "id": "431b6c53-1d8c-4659-9292-3821ae3dca45",
   "metadata": {},
   "source": [
    "Należy pamiętać że zmienne w środku listy, słownika czy krotki zawsze piszemy w []. A sama nazwa listy czy słownika zawsze z dużej litery"
   ]
  },
  {
   "cell_type": "markdown",
   "id": "e4881a09-c1bc-4726-bc08-c8022a7f86e4",
   "metadata": {},
   "source": [
    "Wracając do naszej gry, teraz typ talii kart staje się: List[Tuple[str, str]], więc: "
   ]
  },
  {
   "cell_type": "code",
   "execution_count": 42,
   "id": "17c53d40-8fee-48c3-981c-5a611c409239",
   "metadata": {},
   "outputs": [],
   "source": [
    "def create_deck(shuffle: bool = False) -> List[Tuple[str, str]]:\n",
    "    \"\"\"Create a new deck of 52 cards\"\"\"\n",
    "    deck = [(s, r) for r in RANKS for s in SUITS]\n",
    "    if shuffle:\n",
    "        random.shuffle(deck)\n",
    "    return deck"
   ]
  },
  {
   "cell_type": "markdown",
   "id": "d1b59ce7-b728-4ccb-b5e3-8e7d70d2a608",
   "metadata": {},
   "source": [
    "## Mapowanie i sekwencje"
   ]
  },
  {
   "cell_type": "markdown",
   "id": "6953d346-4b2e-47e1-9b64-b84d86a6830d",
   "metadata": {},
   "source": [
    "W pythonie możemy zdefiniować **sekwencje liczb**, np listy lub krotki, które zawierają liczby zmiennoprzecinkowe. Pojawia się tu duck typing ponieważ nie ważne czy jako arugment funkcji podam listę czy krotkę, w wyniku otrzymamy to samo."
   ]
  },
  {
   "cell_type": "code",
   "execution_count": 9,
   "id": "08ec8514-ef32-47a4-9679-f0f31f04b334",
   "metadata": {},
   "outputs": [],
   "source": [
    "from typing import List, Sequence\n",
    "\n",
    "\"\"\"Funkcja liczy kwadrat każdego elementu z listy lub krotki i zwraca listę.\"\"\"\n",
    "\n",
    "def square(elems: Sequence[float]) -> List[float]:\n",
    "    return [x**2 for x in elems]"
   ]
  },
  {
   "cell_type": "code",
   "execution_count": 13,
   "id": "382aaf73-d0c9-4a38-8606-d66a5238dc52",
   "metadata": {},
   "outputs": [
    {
     "data": {
      "text/plain": [
       "[4, 16, 36, 64]"
      ]
     },
     "execution_count": 13,
     "metadata": {},
     "output_type": "execute_result"
    }
   ],
   "source": [
    "square([2,4,6,8])"
   ]
  },
  {
   "cell_type": "markdown",
   "id": "87f3fb2a-38f5-43a9-9015-47543774a5e4",
   "metadata": {},
   "source": [
    "## Aliasy"
   ]
  },
  {
   "cell_type": "markdown",
   "id": "c0cbeb85-8671-4f9e-bfbc-007610cd7e74",
   "metadata": {},
   "source": [
    "Do opisu deal_hands będziemy wykorzystywali **Aliasy**, dzięki temu nasze adnotacje są bardziej czytelne."
   ]
  },
  {
   "cell_type": "code",
   "execution_count": 45,
   "id": "436564d3-ae15-451e-b987-8cf639d6e434",
   "metadata": {},
   "outputs": [],
   "source": [
    "from typing import List, Tuple\n",
    "\n",
    "Card = Tuple[str, str] \n",
    "Deck = List[Card]\n",
    "\n",
    "def deal_hands(deck: Deck) -> Tuple[Deck, Deck, Deck, Deck]:\n",
    "    \"\"\"Deal the cards in the deck into four hands\"\"\"\n",
    "    return (deck[0::4], deck[1::4], deck[2::4], deck[3::4])"
   ]
  },
  {
   "cell_type": "code",
   "execution_count": 47,
   "id": "3778a71c-5345-458e-889c-0a4d275b4a9a",
   "metadata": {},
   "outputs": [
    {
     "name": "stdout",
     "output_type": "stream",
     "text": [
      "typing.List[typing.Tuple[str, str]]\n"
     ]
    }
   ],
   "source": [
    "Deck"
   ]
  },
  {
   "cell_type": "markdown",
   "id": "7883fc38-6cde-4b72-9e81-0dd33b03bbd2",
   "metadata": {},
   "source": [
    "W każdej chwili możemy sprawdzić co się kryje pod konkretnym aliasem"
   ]
  },
  {
   "cell_type": "markdown",
   "id": "f505663d-1e4b-4566-a95f-7565d685362c",
   "metadata": {},
   "source": [
    "## Funkcje bez zwracanej wartości"
   ]
  },
  {
   "cell_type": "markdown",
   "id": "47bf08a6-91af-44a5-90d7-8dfb73216bb1",
   "metadata": {},
   "source": [
    "Jeśli w fukcji nie zadamy wartości zwracanej, to zwraca nam wartość: none."
   ]
  },
  {
   "cell_type": "code",
   "execution_count": 4,
   "id": "03bd2d51-2a15-4ea2-8e9a-4f9c3b7a3a61",
   "metadata": {},
   "outputs": [],
   "source": [
    "\"\"\"Funckja wyświetla nazwę gracza\"\"\"\n",
    "\n",
    "def play(player_name):\n",
    "     print(f\"{player_name} plays\")"
   ]
  },
  {
   "cell_type": "code",
   "execution_count": 6,
   "id": "bf1988b3-3706-4639-ad7e-0ab6ac9ee730",
   "metadata": {},
   "outputs": [
    {
     "name": "stdout",
     "output_type": "stream",
     "text": [
      "gracz plays\n"
     ]
    },
    {
     "data": {
      "text/plain": [
       "NoneType"
      ]
     },
     "execution_count": 6,
     "metadata": {},
     "output_type": "execute_result"
    }
   ],
   "source": [
    "value = play(\"gracz\")\n",
    "type(value)"
   ]
  },
  {
   "cell_type": "markdown",
   "id": "40973a55-e78c-4d10-bd1f-9101b5a107d7",
   "metadata": {},
   "source": [
    "Jeśli dopiszemy adnotacje do funkcji to mypy stwierdzi, że nie zwraca wartości ponieważ none nie jesteśmy w stanie wykorzystać w żaden sposób."
   ]
  },
  {
   "cell_type": "code",
   "execution_count": 17,
   "id": "7de790cd-1d3e-4f6c-a9f5-26b61b880cf1",
   "metadata": {},
   "outputs": [],
   "source": [
    "def play(player_name: str) -> None:\n",
    "    print(f\"{player_name} plays\")\n",
    "\n",
    "# value = play(\"gracz\")"
   ]
  },
  {
   "cell_type": "code",
   "execution_count": 9,
   "id": "cd790cfc-770c-4baa-89e2-204ed2df8a13",
   "metadata": {},
   "outputs": [
    {
     "name": "stdout",
     "output_type": "stream",
     "text": [
      "play.py:4: \u001b[1m\u001b[91merror:\u001b[0m \u001b[0m\u001b[1m\"play\"\u001b[0m does not return a value (it only ever returns None)  \u001b[0m\u001b[93m[func-returns-value]\u001b[0m\n",
      "\u001b[1m\u001b[91mFound 1 error in 1 file (checked 1 source file)\u001b[0m\n"
     ]
    }
   ],
   "source": [
    "!mypy play.py"
   ]
  },
  {
   "cell_type": "markdown",
   "id": "8cceddfa-8870-4a46-9f22-d1b3da27b9a4",
   "metadata": {},
   "source": [
    "Gdybyśmy nie dodali adnotacji samej wartości zwracanej mypy uzna że wszystko jest okej."
   ]
  },
  {
   "cell_type": "code",
   "execution_count": 20,
   "id": "50c0eb69-6333-4fb7-a4fb-1f4af9c55fb7",
   "metadata": {},
   "outputs": [],
   "source": [
    "def play2(player_name: str):\n",
    "    print(f\"{player_name} plays\")\n",
    "\n",
    "# value = play2(\"gracz\")"
   ]
  },
  {
   "cell_type": "code",
   "execution_count": 21,
   "id": "7f476129-fc8c-440a-85f4-365082dedfe4",
   "metadata": {},
   "outputs": [
    {
     "name": "stdout",
     "output_type": "stream",
     "text": [
      "\u001b[1m\u001b[92mSuccess: no issues found in 1 source file\u001b[0m\n"
     ]
    }
   ],
   "source": [
    "!mypy play2.py"
   ]
  },
  {
   "cell_type": "code",
   "execution_count": 26,
   "id": "31c7fad4-2b76-47f2-8021-88330a308ab1",
   "metadata": {},
   "outputs": [],
   "source": [
    "from typing import NoReturn\n",
    "\n",
    "def black_hole(text: str) -> NoReturn:\n",
    "    raise Exception(\"There is no going back ...\")"
   ]
  },
  {
   "cell_type": "code",
   "execution_count": 27,
   "id": "b6529644-4ae2-4dab-bd6b-b96204003257",
   "metadata": {},
   "outputs": [
    {
     "ename": "Exception",
     "evalue": "There is no going back ...",
     "output_type": "error",
     "traceback": [
      "\u001b[1;31m---------------------------------------------------------------------------\u001b[0m",
      "\u001b[1;31mException\u001b[0m                                 Traceback (most recent call last)",
      "Cell \u001b[1;32mIn[27], line 1\u001b[0m\n\u001b[1;32m----> 1\u001b[0m \u001b[43mblack_hole\u001b[49m\u001b[43m(\u001b[49m\u001b[38;5;124;43m\"\u001b[39;49m\u001b[38;5;124;43mreturn\u001b[39;49m\u001b[38;5;124;43m\"\u001b[39;49m\u001b[43m)\u001b[49m\n",
      "Cell \u001b[1;32mIn[26], line 4\u001b[0m, in \u001b[0;36mblack_hole\u001b[1;34m(text)\u001b[0m\n\u001b[0;32m      3\u001b[0m \u001b[38;5;28;01mdef\u001b[39;00m \u001b[38;5;21mblack_hole\u001b[39m(text: \u001b[38;5;28mstr\u001b[39m) \u001b[38;5;241m-\u001b[39m\u001b[38;5;241m>\u001b[39m NoReturn:\n\u001b[1;32m----> 4\u001b[0m     \u001b[38;5;28;01mraise\u001b[39;00m \u001b[38;5;167;01mException\u001b[39;00m(\u001b[38;5;124m\"\u001b[39m\u001b[38;5;124mThere is no going back ...\u001b[39m\u001b[38;5;124m\"\u001b[39m)\n",
      "\u001b[1;31mException\u001b[0m: There is no going back ..."
     ]
    }
   ],
   "source": [
    "black_hole(\"return\")"
   ]
  },
  {
   "cell_type": "markdown",
   "id": "eb3034f0-1421-4313-96db-2747ff860e40",
   "metadata": {},
   "source": [
    "Jeśli chcemy żeby funkcja zupełnie niczego nie zwracała to możemy zamiportować typowanie NoRetrun. Wywołując funkcje zawsze dostaniem zastrzeżenie"
   ]
  },
  {
   "cell_type": "markdown",
   "id": "a5b09e7a-5277-4179-8b51-279a17530dc7",
   "metadata": {},
   "source": [
    "Teraz dodamy do naszego kodu z talią dodamy grę w karty. Po rozdaniu kart do każdego gracza, wybieramy jednego z nich i rzucamy dowolną kartę ponieważ nie wprowadziliśmy jeszcze żadnych zasad gry."
   ]
  },
  {
   "cell_type": "code",
   "execution_count": 1,
   "id": "b68e6706-363b-411a-b4a3-0c32af81c295",
   "metadata": {},
   "outputs": [
    {
     "name": "stdout",
     "output_type": "stream",
     "text": [
      "P1: ♠K   P2: ♢10  P3: ♢3   P4: ♠5   \n",
      "P1: ♡6   P2: ♣8   P3: ♡Q   P4: ♢4   \n",
      "P1: ♣5   P2: ♠Q   P3: ♡10  P4: ♣Q   \n",
      "P1: ♠8   P2: ♣10  P3: ♡3   P4: ♠4   \n",
      "P1: ♡A   P2: ♢K   P3: ♣K   P4: ♡J   \n",
      "P1: ♠9   P2: ♢A   P3: ♣9   P4: ♣4   \n",
      "P1: ♠3   P2: ♡2   P3: ♢7   P4: ♣7   \n",
      "P1: ♠6   P2: ♣J   P3: ♢8   P4: ♡7   \n",
      "P1: ♢J   P2: ♣2   P3: ♠2   P4: ♠A   \n",
      "P1: ♡K   P2: ♣A   P3: ♠J   P4: ♡4   \n",
      "P1: ♠7   P2: ♠10  P3: ♣6   P4: ♣3   \n",
      "P1: ♢2   P2: ♡8   P3: ♡5   P4: ♡9   \n",
      "P1: ♢9   P2: ♢5   P3: ♢6   P4: ♢Q   \n"
     ]
    }
   ],
   "source": [
    "import random\n",
    "from typing import List, Tuple\n",
    "\n",
    "SUITS = \"♠ ♡ ♢ ♣\".split()\n",
    "RANKS = \"2 3 4 5 6 7 8 9 10 J Q K A\".split()\n",
    "\n",
    "Card = Tuple[str, str]\n",
    "Deck = List[Card]\n",
    "\n",
    "def create_deck(shuffle: bool = False) -> Deck:\n",
    "    \"\"\"Create a new deck of 52 cards\"\"\"\n",
    "    deck = [(s, r) for r in RANKS for s in SUITS]\n",
    "    if shuffle:\n",
    "        random.shuffle(deck)\n",
    "    return deck\n",
    "\n",
    "def deal_hands(deck: Deck) -> Tuple[Deck, Deck, Deck, Deck]:\n",
    "    \"\"\"Deal the cards in the deck into four hands\"\"\"\n",
    "    return (deck[0::4], deck[1::4], deck[2::4], deck[3::4])\n",
    "\n",
    "def choose(items):\n",
    "    \"\"\"Choose and return a random item\"\"\"\n",
    "    return random.choice(items)\n",
    "\n",
    "def player_order(names, start=None):\n",
    "    \"\"\"Rotate player order so that start goes first\"\"\"\n",
    "    if start is None:\n",
    "        start = choose(names)\n",
    "    start_idx = names.index(start)\n",
    "    return names[start_idx:] + names[:start_idx]\n",
    "\n",
    "def play() -> None:\n",
    "    \"\"\"Play a 4-player card game\"\"\"\n",
    "    deck = create_deck(shuffle=True)\n",
    "    names = \"P1 P2 P3 P4\".split()\n",
    "    hands = {n: h for n, h in zip(names, deal_hands(deck))}\n",
    "    start_player = choose(names)\n",
    "    turn_order = player_order(names, start=start_player)\n",
    "\n",
    "    # Randomly play cards from each player's hand until empty\n",
    "    while hands[start_player]:\n",
    "        for name in turn_order:\n",
    "            card = choose(hands[name])\n",
    "            hands[name].remove(card)\n",
    "            print(f\"{name}: {card[0] + card[1]:<3}  \", end=\"\")\n",
    "        print()\n",
    "\n",
    "if __name__ == \"__main__\":\n",
    "    play()"
   ]
  },
  {
   "cell_type": "markdown",
   "id": "8b1c70bd-2500-432b-ba21-b7721e130c87",
   "metadata": {},
   "source": [
    "Funkcja **choose** wybiera losowy element z listy, **player order** ustala losowo kolejność graczy (opcjonalnie można wprowadzić od którego gracza gra ma się zaczynać) poprzez **choose(names)**. \n",
    "\n",
    "Jeśli dodatkowy parametr był dodany funkcja znajduje indeks gracza start za pomocą names.index(start). Na koniec names[start_idx:] + names[:start_idx] ustala kolejność tak by start był na początku."
   ]
  },
  {
   "cell_type": "markdown",
   "id": "5f448498-73ad-4cea-98d5-e89e070d7db7",
   "metadata": {},
   "source": [
    "Teraz dodamy hinty do noweych funkcji. Funkcja choose działa zarówno dla list imion oraz kart."
   ]
  },
  {
   "cell_type": "code",
   "execution_count": 5,
   "id": "80bc78a3-a1c7-4354-b6d2-fc9a0b2ed309",
   "metadata": {},
   "outputs": [],
   "source": [
    "import random\n",
    "from typing import Any, Sequence\n",
    "\n",
    "def choose(items: Sequence[Any]) -> Any:\n",
    "    return random.choice(items)\n",
    "\n",
    "# names = [\"Guido\", \"Jukka\", \"Ivan\"]\n",
    "# reveal_type(names)\n",
    "\n",
    "# name = choose(names)\n",
    "# reveal_type(name)"
   ]
  },
  {
   "cell_type": "markdown",
   "id": "fafcffad-7445-435c-9fd6-9f08a11d429f",
   "metadata": {},
   "source": [
    "Czyli items może zawierać sekwencję dowolnego typu, a funkcja zwróci type any. Niestety mypy nie jest w stanie odczytać takich hintów prawidłowo."
   ]
  },
  {
   "cell_type": "code",
   "execution_count": 3,
   "id": "bcba20fa-3a54-41d0-859f-b096df16aa5f",
   "metadata": {},
   "outputs": [
    {
     "name": "stdout",
     "output_type": "stream",
     "text": [
      "choose.py:8: \u001b[94mnote:\u001b[0m Revealed type is \u001b[0m\u001b[1m\"builtins.list[builtins.str]\"\u001b[0m\u001b[0m\n",
      "choose.py:11: \u001b[94mnote:\u001b[0m Revealed type is \u001b[0m\u001b[1m\"Any\"\u001b[0m\u001b[0m\n",
      "\u001b[1m\u001b[92mSuccess: no issues found in 1 source file\u001b[0m\n"
     ]
    }
   ],
   "source": [
    "!mypy choose.py"
   ]
  }
 ],
 "metadata": {
  "jupytext": {
   "formats": "ipynb,py:percent"
  },
  "kernelspec": {
   "display_name": "Python 3 (ipykernel)",
   "language": "python",
   "name": "python3"
  },
  "language_info": {
   "codemirror_mode": {
    "name": "ipython",
    "version": 3
   },
   "file_extension": ".py",
   "mimetype": "text/x-python",
   "name": "python",
   "nbconvert_exporter": "python",
   "pygments_lexer": "ipython3",
   "version": "3.13.0"
  }
 },
 "nbformat": 4,
 "nbformat_minor": 5
}
