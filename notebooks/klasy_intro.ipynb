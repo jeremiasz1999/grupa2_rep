{
 "cells": [
  {
   "cell_type": "code",
   "execution_count": 30,
   "id": "535c2a6f-1876-4941-b57f-23d6175352c5",
   "metadata": {},
   "outputs": [],
   "source": [
    "class A: \n",
    "\n",
    "    static_attr = 7 \n",
    "\n",
    "    def __init__(self, attr = 50):\n",
    "        self.attr = attr\n",
    "\n",
    "    def f(self):\n",
    "        print('Welcome A')\n",
    "\n",
    "class B(A):\n",
    "\n",
    "    def g(self):\n",
    "        print('Welcome B')\n",
    "\n",
    "class C(B):\n",
    "\n",
    "    def __init__(self, attr=50):\n",
    "        super().__init__(attr)\n",
    "        print(f'Created object C = {attr}')\n",
    "\n",
    "    def f(self, x):\n",
    "        print(f'Hello {x}. Welcome C')\n",
    "\n",
    "    def h(self):\n",
    "        print('Welcome C')"
   ]
  },
  {
   "cell_type": "code",
   "execution_count": 7,
   "id": "5fd08cf0-489e-469f-b315-58bfdd7bcbc7",
   "metadata": {},
   "outputs": [],
   "source": [
    "obj_c = C()"
   ]
  },
  {
   "cell_type": "code",
   "execution_count": 8,
   "id": "a1f21518-c0ff-4246-b07f-a02117722ed0",
   "metadata": {},
   "outputs": [],
   "source": [
    "obj_c.__init__()"
   ]
  },
  {
   "cell_type": "code",
   "execution_count": 10,
   "id": "1fb9c348-6440-436c-9d0d-101c8ee332a5",
   "metadata": {},
   "outputs": [
    {
     "data": {
      "text/plain": [
       "<__main__.C at 0x207ba7ba570>"
      ]
     },
     "execution_count": 10,
     "metadata": {},
     "output_type": "execute_result"
    }
   ],
   "source": [
    "obj_c"
   ]
  },
  {
   "cell_type": "code",
   "execution_count": 11,
   "id": "8809800d-3f21-453b-bd40-191ae921787d",
   "metadata": {},
   "outputs": [
    {
     "data": {
      "text/plain": [
       "50"
      ]
     },
     "execution_count": 11,
     "metadata": {},
     "output_type": "execute_result"
    }
   ],
   "source": [
    "obj_c.attr"
   ]
  },
  {
   "cell_type": "code",
   "execution_count": 31,
   "id": "00ff8e2f-7b9c-46fd-a5fa-4545beb42082",
   "metadata": {},
   "outputs": [
    {
     "name": "stdout",
     "output_type": "stream",
     "text": [
      "Created object C = 777\n"
     ]
    }
   ],
   "source": [
    "obj_c = C(777)"
   ]
  },
  {
   "cell_type": "code",
   "execution_count": 32,
   "id": "26758461-0cdc-4105-9418-08be553c8a31",
   "metadata": {},
   "outputs": [
    {
     "data": {
      "text/plain": [
       "777"
      ]
     },
     "execution_count": 32,
     "metadata": {},
     "output_type": "execute_result"
    }
   ],
   "source": [
    "obj_c.attr"
   ]
  },
  {
   "cell_type": "code",
   "execution_count": 26,
   "id": "6f8d3049-5afc-4d3f-a395-520a16f21540",
   "metadata": {},
   "outputs": [
    {
     "name": "stdout",
     "output_type": "stream",
     "text": [
      "Hello Roman. Welcome C\n"
     ]
    }
   ],
   "source": [
    "obj_c.f('Roman')"
   ]
  }
 ],
 "metadata": {
  "jupytext": {
   "formats": "ipynb,auto:percent"
  },
  "kernelspec": {
   "display_name": "Python 3 (ipykernel)",
   "language": "python",
   "name": "python3"
  },
  "language_info": {
   "codemirror_mode": {
    "name": "ipython",
    "version": 3
   },
   "file_extension": ".py",
   "mimetype": "text/x-python",
   "name": "python",
   "nbconvert_exporter": "python",
   "pygments_lexer": "ipython3",
   "version": "3.12.6"
  }
 },
 "nbformat": 4,
 "nbformat_minor": 5
}
